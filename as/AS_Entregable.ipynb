{
  "cells": [
    {
      "cell_type": "markdown",
      "metadata": {
        "id": "J0KvvwSXcPxY"
      },
      "source": [
        "# DiploDatos Kaggle Competition"
      ]
    },
    {
      "cell_type": "markdown",
      "metadata": {
        "id": "ElP7afRkcPxe"
      },
      "source": [
        "Presentamos un código creado como ejemplo de base para la competición.\n",
        "\n",
        "Deben:\n",
        "\n",
        "- Explorar los datos y aprender de ellos.\n",
        "- Probar diferentes modelos y ver cuáles ajustan mejor dado los datos.\n",
        "- **Obtener una accuracy mejor que la que se presenta en este ejemplo.**\n",
        "- Tratar de obtener la accuracy más alta posible!\n",
        "- Discutir la elección de modelo.\n",
        "\n",
        "El análisis exploratorio y el preprocesamiento de los datos queda a libertad de cada grupo y no deben quedarse con este simple ejemplo."
      ]
    },
    {
      "cell_type": "code",
      "execution_count": null,
      "metadata": {
        "id": "QK117h0hcPxf"
      },
      "outputs": [],
      "source": [
        "import pandas as pd\n",
        "import numpy as np\n",
        "import matplotlib.pyplot as plt\n",
        "import seaborn as sns\n",
        "\n",
        "from sklearn.preprocessing import StandardScaler, LabelEncoder, OneHotEncoder, OrdinalEncoder , MinMaxScaler\n",
        "from sklearn.impute import SimpleImputer\n",
        "from sklearn.model_selection import train_test_split, GridSearchCV, StratifiedKFold\n",
        "from sklearn.metrics import accuracy_score, ConfusionMatrixDisplay, classification_report\n",
        "\n",
        "from sklearn.tree import DecisionTreeClassifier"
      ]
    },
    {
      "cell_type": "code",
      "source": [
        "import itertools\n",
        "\n",
        "def plot_decision_boundary(model, X, y):\n",
        "    # Set min and max values and give it some padding\n",
        "    x_min, x_max = X[0, :].min() - 1, X[0, :].max() + 1\n",
        "    y_min, y_max = X[1, :].min() - 1, X[1, :].max() + 1\n",
        "    h = 0.01\n",
        "    # Generate a grid of points with distance h between them\n",
        "    xx, yy = np.meshgrid(np.arange(x_min, x_max, h), np.arange(y_min, y_max, h))\n",
        "    # Predict the function value for the whole grid\n",
        "    Z = model(np.c_[xx.ravel(), yy.ravel()])\n",
        "    Z = Z.reshape(xx.shape)\n",
        "    # Plot the contour and training examples\n",
        "    plt.contourf(xx, yy, Z, cmap=plt.cm.ocean)#OrRd_r)\n",
        "    plt.ylabel('x2')\n",
        "    plt.xlabel('x1')\n",
        "    plt.scatter(X[0, :], X[1, :], c=y.ravel(), cmap=plt.cm.Greys)\n",
        "\n",
        "\n",
        "def plot_confusion_matrix(cm, classes,\n",
        "                          normalize=False,\n",
        "                          title='Confusion matrix',\n",
        "                          cmap=plt.cm.Blues):\n",
        "    \"\"\"\n",
        "    This function prints and plots the confusion matrix.\n",
        "    Normalization can be applied by setting `normalize=True`.\n",
        "    \"\"\"\n",
        "    if normalize:\n",
        "        cm = cm.astype('float') / cm.sum(axis=1)[:, np.newaxis]\n",
        "\n",
        "    plt.imshow(cm, interpolation='nearest', cmap=cmap)\n",
        "    plt.title(title)\n",
        "    plt.colorbar()\n",
        "    tick_marks = np.arange(len(classes))\n",
        "    plt.xticks(tick_marks, classes, rotation=45)\n",
        "    plt.yticks(tick_marks, classes)\n",
        "\n",
        "    fmt = '.2f' if normalize else 'd'\n",
        "    thresh = cm.max() / 2.\n",
        "    for i, j in itertools.product(range(cm.shape[0]), range(cm.shape[1])):\n",
        "        plt.text(j, i, format(cm[i, j], fmt),\n",
        "                 horizontalalignment=\"center\",\n",
        "                 color=\"white\" if cm[i, j] > thresh else \"black\")\n",
        "\n",
        "    plt.tight_layout()\n",
        "    plt.ylabel('Etiqueta correcta')\n",
        "    plt.xlabel('Etiqueta predicha')"
      ],
      "metadata": {
        "id": "rVpt4_EGDhKE"
      },
      "execution_count": null,
      "outputs": []
    },
    {
      "cell_type": "markdown",
      "source": [
        "### Analisis exploratorio y visualizacion del DataFrame"
      ],
      "metadata": {
        "id": "yCCpYHKXd4jj"
      }
    },
    {
      "cell_type": "code",
      "source": [
        "# Conjunto de Train\n",
        "URL = 'https://drive.google.com/file/d/16SSOt06KitPEkAXQwfPyM16jojqCxwtl/view?usp=sharing'\n",
        "path = 'https://drive.google.com/uc?export=download&id='+URL.split('/')[-2]\n",
        "df = pd.read_csv(path)"
      ],
      "metadata": {
        "id": "2h7Mc0dqkFDY"
      },
      "execution_count": null,
      "outputs": []
    },
    {
      "cell_type": "code",
      "source": [
        "# Conjunto de Test\n",
        "URL = 'https://drive.google.com/file/d/1EVGW3CQeKZjtkdusFIp9KjqF87rFl264/view?usp=sharing'\n",
        "path = 'https://drive.google.com/uc?export=download&id='+URL.split('/')[-2]\n",
        "test_df = pd.read_csv(path)"
      ],
      "metadata": {
        "id": "XQPld6keBnbC"
      },
      "execution_count": null,
      "outputs": []
    },
    {
      "cell_type": "code",
      "source": [
        "df"
      ],
      "metadata": {
        "colab": {
          "base_uri": "https://localhost:8080/",
          "height": 520
        },
        "id": "R8C1jmaQrDhM",
        "outputId": "a3fbe4fb-4f4d-467c-fa33-0cdbd50a5eca"
      },
      "execution_count": null,
      "outputs": [
        {
          "output_type": "execute_result",
          "data": {
            "text/plain": [
              "      PassengerId HomePlanet CryoSleep     Cabin  Destination   Age    VIP  \\\n",
              "0            3430     Europa     False   C/123/P  TRAPPIST-1e  57.0  False   \n",
              "1             669       Mars      True   F/126/S          NaN  18.0  False   \n",
              "2            8430     Europa      True   B/343/S  TRAPPIST-1e  33.0    NaN   \n",
              "3            6463      Earth     False  F/1420/P  TRAPPIST-1e  43.0  False   \n",
              "4              85      Earth     False     G/9/P  TRAPPIST-1e  19.0  False   \n",
              "...           ...        ...       ...       ...          ...   ...    ...   \n",
              "7818         6528       Mars     False  F/1319/S  TRAPPIST-1e  12.0    NaN   \n",
              "7819         2693      Earth     False   G/459/S  TRAPPIST-1e  44.0  False   \n",
              "7820         8076       Mars      True  F/1772/P  TRAPPIST-1e  55.0  False   \n",
              "7821         3829      Earth     False   E/253/P  TRAPPIST-1e  15.0  False   \n",
              "7822         7624     Europa      True   B/270/P  55 Cancri e  45.0  False   \n",
              "\n",
              "      RoomService  FoodCourt  ShoppingMall    Spa  VRDeck               Name  \\\n",
              "0             0.0     3859.0          13.0  195.0  3874.0     Azhah Tronsive   \n",
              "1             0.0        0.0           0.0    0.0     0.0         Roswal Sha   \n",
              "2             0.0        0.0           0.0    0.0     0.0  Shaiam Tinganking   \n",
              "3           142.0     1208.0           0.0    0.0   204.0     Landa Grifford   \n",
              "4             0.0        0.0         670.0    1.0    34.0     Gracy Dunnisey   \n",
              "...           ...        ...           ...    ...     ...                ...   \n",
              "7818          0.0        0.0           0.0    0.0     0.0        Risps Hacle   \n",
              "7819          0.0        0.0         744.0   62.0     3.0      Gabrie Reenez   \n",
              "7820          0.0        0.0           0.0    0.0     0.0       Panzel Ruity   \n",
              "7821          0.0      840.0         123.0    0.0    20.0    Belly Weavesend   \n",
              "7822          0.0        0.0           0.0    0.0     0.0  Graston Donotaked   \n",
              "\n",
              "      Transported  \n",
              "0               0  \n",
              "1               1  \n",
              "2               1  \n",
              "3               0  \n",
              "4               0  \n",
              "...           ...  \n",
              "7818            1  \n",
              "7819            0  \n",
              "7820            1  \n",
              "7821            0  \n",
              "7822            1  \n",
              "\n",
              "[7823 rows x 14 columns]"
            ],
            "text/html": [
              "\n",
              "  <div id=\"df-d840a4b6-d72a-4f91-abc5-750efa39037a\">\n",
              "    <div class=\"colab-df-container\">\n",
              "      <div>\n",
              "<style scoped>\n",
              "    .dataframe tbody tr th:only-of-type {\n",
              "        vertical-align: middle;\n",
              "    }\n",
              "\n",
              "    .dataframe tbody tr th {\n",
              "        vertical-align: top;\n",
              "    }\n",
              "\n",
              "    .dataframe thead th {\n",
              "        text-align: right;\n",
              "    }\n",
              "</style>\n",
              "<table border=\"1\" class=\"dataframe\">\n",
              "  <thead>\n",
              "    <tr style=\"text-align: right;\">\n",
              "      <th></th>\n",
              "      <th>PassengerId</th>\n",
              "      <th>HomePlanet</th>\n",
              "      <th>CryoSleep</th>\n",
              "      <th>Cabin</th>\n",
              "      <th>Destination</th>\n",
              "      <th>Age</th>\n",
              "      <th>VIP</th>\n",
              "      <th>RoomService</th>\n",
              "      <th>FoodCourt</th>\n",
              "      <th>ShoppingMall</th>\n",
              "      <th>Spa</th>\n",
              "      <th>VRDeck</th>\n",
              "      <th>Name</th>\n",
              "      <th>Transported</th>\n",
              "    </tr>\n",
              "  </thead>\n",
              "  <tbody>\n",
              "    <tr>\n",
              "      <th>0</th>\n",
              "      <td>3430</td>\n",
              "      <td>Europa</td>\n",
              "      <td>False</td>\n",
              "      <td>C/123/P</td>\n",
              "      <td>TRAPPIST-1e</td>\n",
              "      <td>57.0</td>\n",
              "      <td>False</td>\n",
              "      <td>0.0</td>\n",
              "      <td>3859.0</td>\n",
              "      <td>13.0</td>\n",
              "      <td>195.0</td>\n",
              "      <td>3874.0</td>\n",
              "      <td>Azhah Tronsive</td>\n",
              "      <td>0</td>\n",
              "    </tr>\n",
              "    <tr>\n",
              "      <th>1</th>\n",
              "      <td>669</td>\n",
              "      <td>Mars</td>\n",
              "      <td>True</td>\n",
              "      <td>F/126/S</td>\n",
              "      <td>NaN</td>\n",
              "      <td>18.0</td>\n",
              "      <td>False</td>\n",
              "      <td>0.0</td>\n",
              "      <td>0.0</td>\n",
              "      <td>0.0</td>\n",
              "      <td>0.0</td>\n",
              "      <td>0.0</td>\n",
              "      <td>Roswal Sha</td>\n",
              "      <td>1</td>\n",
              "    </tr>\n",
              "    <tr>\n",
              "      <th>2</th>\n",
              "      <td>8430</td>\n",
              "      <td>Europa</td>\n",
              "      <td>True</td>\n",
              "      <td>B/343/S</td>\n",
              "      <td>TRAPPIST-1e</td>\n",
              "      <td>33.0</td>\n",
              "      <td>NaN</td>\n",
              "      <td>0.0</td>\n",
              "      <td>0.0</td>\n",
              "      <td>0.0</td>\n",
              "      <td>0.0</td>\n",
              "      <td>0.0</td>\n",
              "      <td>Shaiam Tinganking</td>\n",
              "      <td>1</td>\n",
              "    </tr>\n",
              "    <tr>\n",
              "      <th>3</th>\n",
              "      <td>6463</td>\n",
              "      <td>Earth</td>\n",
              "      <td>False</td>\n",
              "      <td>F/1420/P</td>\n",
              "      <td>TRAPPIST-1e</td>\n",
              "      <td>43.0</td>\n",
              "      <td>False</td>\n",
              "      <td>142.0</td>\n",
              "      <td>1208.0</td>\n",
              "      <td>0.0</td>\n",
              "      <td>0.0</td>\n",
              "      <td>204.0</td>\n",
              "      <td>Landa Grifford</td>\n",
              "      <td>0</td>\n",
              "    </tr>\n",
              "    <tr>\n",
              "      <th>4</th>\n",
              "      <td>85</td>\n",
              "      <td>Earth</td>\n",
              "      <td>False</td>\n",
              "      <td>G/9/P</td>\n",
              "      <td>TRAPPIST-1e</td>\n",
              "      <td>19.0</td>\n",
              "      <td>False</td>\n",
              "      <td>0.0</td>\n",
              "      <td>0.0</td>\n",
              "      <td>670.0</td>\n",
              "      <td>1.0</td>\n",
              "      <td>34.0</td>\n",
              "      <td>Gracy Dunnisey</td>\n",
              "      <td>0</td>\n",
              "    </tr>\n",
              "    <tr>\n",
              "      <th>...</th>\n",
              "      <td>...</td>\n",
              "      <td>...</td>\n",
              "      <td>...</td>\n",
              "      <td>...</td>\n",
              "      <td>...</td>\n",
              "      <td>...</td>\n",
              "      <td>...</td>\n",
              "      <td>...</td>\n",
              "      <td>...</td>\n",
              "      <td>...</td>\n",
              "      <td>...</td>\n",
              "      <td>...</td>\n",
              "      <td>...</td>\n",
              "      <td>...</td>\n",
              "    </tr>\n",
              "    <tr>\n",
              "      <th>7818</th>\n",
              "      <td>6528</td>\n",
              "      <td>Mars</td>\n",
              "      <td>False</td>\n",
              "      <td>F/1319/S</td>\n",
              "      <td>TRAPPIST-1e</td>\n",
              "      <td>12.0</td>\n",
              "      <td>NaN</td>\n",
              "      <td>0.0</td>\n",
              "      <td>0.0</td>\n",
              "      <td>0.0</td>\n",
              "      <td>0.0</td>\n",
              "      <td>0.0</td>\n",
              "      <td>Risps Hacle</td>\n",
              "      <td>1</td>\n",
              "    </tr>\n",
              "    <tr>\n",
              "      <th>7819</th>\n",
              "      <td>2693</td>\n",
              "      <td>Earth</td>\n",
              "      <td>False</td>\n",
              "      <td>G/459/S</td>\n",
              "      <td>TRAPPIST-1e</td>\n",
              "      <td>44.0</td>\n",
              "      <td>False</td>\n",
              "      <td>0.0</td>\n",
              "      <td>0.0</td>\n",
              "      <td>744.0</td>\n",
              "      <td>62.0</td>\n",
              "      <td>3.0</td>\n",
              "      <td>Gabrie Reenez</td>\n",
              "      <td>0</td>\n",
              "    </tr>\n",
              "    <tr>\n",
              "      <th>7820</th>\n",
              "      <td>8076</td>\n",
              "      <td>Mars</td>\n",
              "      <td>True</td>\n",
              "      <td>F/1772/P</td>\n",
              "      <td>TRAPPIST-1e</td>\n",
              "      <td>55.0</td>\n",
              "      <td>False</td>\n",
              "      <td>0.0</td>\n",
              "      <td>0.0</td>\n",
              "      <td>0.0</td>\n",
              "      <td>0.0</td>\n",
              "      <td>0.0</td>\n",
              "      <td>Panzel Ruity</td>\n",
              "      <td>1</td>\n",
              "    </tr>\n",
              "    <tr>\n",
              "      <th>7821</th>\n",
              "      <td>3829</td>\n",
              "      <td>Earth</td>\n",
              "      <td>False</td>\n",
              "      <td>E/253/P</td>\n",
              "      <td>TRAPPIST-1e</td>\n",
              "      <td>15.0</td>\n",
              "      <td>False</td>\n",
              "      <td>0.0</td>\n",
              "      <td>840.0</td>\n",
              "      <td>123.0</td>\n",
              "      <td>0.0</td>\n",
              "      <td>20.0</td>\n",
              "      <td>Belly Weavesend</td>\n",
              "      <td>0</td>\n",
              "    </tr>\n",
              "    <tr>\n",
              "      <th>7822</th>\n",
              "      <td>7624</td>\n",
              "      <td>Europa</td>\n",
              "      <td>True</td>\n",
              "      <td>B/270/P</td>\n",
              "      <td>55 Cancri e</td>\n",
              "      <td>45.0</td>\n",
              "      <td>False</td>\n",
              "      <td>0.0</td>\n",
              "      <td>0.0</td>\n",
              "      <td>0.0</td>\n",
              "      <td>0.0</td>\n",
              "      <td>0.0</td>\n",
              "      <td>Graston Donotaked</td>\n",
              "      <td>1</td>\n",
              "    </tr>\n",
              "  </tbody>\n",
              "</table>\n",
              "<p>7823 rows × 14 columns</p>\n",
              "</div>\n",
              "      <button class=\"colab-df-convert\" onclick=\"convertToInteractive('df-d840a4b6-d72a-4f91-abc5-750efa39037a')\"\n",
              "              title=\"Convert this dataframe to an interactive table.\"\n",
              "              style=\"display:none;\">\n",
              "        \n",
              "  <svg xmlns=\"http://www.w3.org/2000/svg\" height=\"24px\"viewBox=\"0 0 24 24\"\n",
              "       width=\"24px\">\n",
              "    <path d=\"M0 0h24v24H0V0z\" fill=\"none\"/>\n",
              "    <path d=\"M18.56 5.44l.94 2.06.94-2.06 2.06-.94-2.06-.94-.94-2.06-.94 2.06-2.06.94zm-11 1L8.5 8.5l.94-2.06 2.06-.94-2.06-.94L8.5 2.5l-.94 2.06-2.06.94zm10 10l.94 2.06.94-2.06 2.06-.94-2.06-.94-.94-2.06-.94 2.06-2.06.94z\"/><path d=\"M17.41 7.96l-1.37-1.37c-.4-.4-.92-.59-1.43-.59-.52 0-1.04.2-1.43.59L10.3 9.45l-7.72 7.72c-.78.78-.78 2.05 0 2.83L4 21.41c.39.39.9.59 1.41.59.51 0 1.02-.2 1.41-.59l7.78-7.78 2.81-2.81c.8-.78.8-2.07 0-2.86zM5.41 20L4 18.59l7.72-7.72 1.47 1.35L5.41 20z\"/>\n",
              "  </svg>\n",
              "      </button>\n",
              "      \n",
              "  <style>\n",
              "    .colab-df-container {\n",
              "      display:flex;\n",
              "      flex-wrap:wrap;\n",
              "      gap: 12px;\n",
              "    }\n",
              "\n",
              "    .colab-df-convert {\n",
              "      background-color: #E8F0FE;\n",
              "      border: none;\n",
              "      border-radius: 50%;\n",
              "      cursor: pointer;\n",
              "      display: none;\n",
              "      fill: #1967D2;\n",
              "      height: 32px;\n",
              "      padding: 0 0 0 0;\n",
              "      width: 32px;\n",
              "    }\n",
              "\n",
              "    .colab-df-convert:hover {\n",
              "      background-color: #E2EBFA;\n",
              "      box-shadow: 0px 1px 2px rgba(60, 64, 67, 0.3), 0px 1px 3px 1px rgba(60, 64, 67, 0.15);\n",
              "      fill: #174EA6;\n",
              "    }\n",
              "\n",
              "    [theme=dark] .colab-df-convert {\n",
              "      background-color: #3B4455;\n",
              "      fill: #D2E3FC;\n",
              "    }\n",
              "\n",
              "    [theme=dark] .colab-df-convert:hover {\n",
              "      background-color: #434B5C;\n",
              "      box-shadow: 0px 1px 3px 1px rgba(0, 0, 0, 0.15);\n",
              "      filter: drop-shadow(0px 1px 2px rgba(0, 0, 0, 0.3));\n",
              "      fill: #FFFFFF;\n",
              "    }\n",
              "  </style>\n",
              "\n",
              "      <script>\n",
              "        const buttonEl =\n",
              "          document.querySelector('#df-d840a4b6-d72a-4f91-abc5-750efa39037a button.colab-df-convert');\n",
              "        buttonEl.style.display =\n",
              "          google.colab.kernel.accessAllowed ? 'block' : 'none';\n",
              "\n",
              "        async function convertToInteractive(key) {\n",
              "          const element = document.querySelector('#df-d840a4b6-d72a-4f91-abc5-750efa39037a');\n",
              "          const dataTable =\n",
              "            await google.colab.kernel.invokeFunction('convertToInteractive',\n",
              "                                                     [key], {});\n",
              "          if (!dataTable) return;\n",
              "\n",
              "          const docLinkHtml = 'Like what you see? Visit the ' +\n",
              "            '<a target=\"_blank\" href=https://colab.research.google.com/notebooks/data_table.ipynb>data table notebook</a>'\n",
              "            + ' to learn more about interactive tables.';\n",
              "          element.innerHTML = '';\n",
              "          dataTable['output_type'] = 'display_data';\n",
              "          await google.colab.output.renderOutput(dataTable, element);\n",
              "          const docLink = document.createElement('div');\n",
              "          docLink.innerHTML = docLinkHtml;\n",
              "          element.appendChild(docLink);\n",
              "        }\n",
              "      </script>\n",
              "    </div>\n",
              "  </div>\n",
              "  "
            ]
          },
          "metadata": {},
          "execution_count": 5
        }
      ]
    },
    {
      "cell_type": "code",
      "source": [
        "#analizamos las columnas\n",
        "df.columns"
      ],
      "metadata": {
        "colab": {
          "base_uri": "https://localhost:8080/"
        },
        "id": "gm_3k59hMOmY",
        "outputId": "20f1eff4-8f87-47e4-838c-f34cf815fb3a"
      },
      "execution_count": null,
      "outputs": [
        {
          "output_type": "execute_result",
          "data": {
            "text/plain": [
              "Index(['PassengerId', 'HomePlanet', 'CryoSleep', 'Cabin', 'Destination', 'Age',\n",
              "       'VIP', 'RoomService', 'FoodCourt', 'ShoppingMall', 'Spa', 'VRDeck',\n",
              "       'Name', 'Transported'],\n",
              "      dtype='object')"
            ]
          },
          "metadata": {},
          "execution_count": 6
        }
      ]
    },
    {
      "cell_type": "code",
      "source": [
        "#analizamos la cantidad de datos por columna y si hay valores nulos\n",
        "df.info()\n"
      ],
      "metadata": {
        "colab": {
          "base_uri": "https://localhost:8080/"
        },
        "id": "Nqmtg2egkIb_",
        "outputId": "6d8566d5-6107-4880-9d67-f3f28c5bdbad"
      },
      "execution_count": null,
      "outputs": [
        {
          "output_type": "stream",
          "name": "stdout",
          "text": [
            "<class 'pandas.core.frame.DataFrame'>\n",
            "RangeIndex: 7823 entries, 0 to 7822\n",
            "Data columns (total 14 columns):\n",
            " #   Column        Non-Null Count  Dtype  \n",
            "---  ------        --------------  -----  \n",
            " 0   PassengerId   7823 non-null   int64  \n",
            " 1   HomePlanet    7644 non-null   object \n",
            " 2   CryoSleep     7627 non-null   object \n",
            " 3   Cabin         7639 non-null   object \n",
            " 4   Destination   7663 non-null   object \n",
            " 5   Age           7661 non-null   float64\n",
            " 6   VIP           7639 non-null   object \n",
            " 7   RoomService   7669 non-null   float64\n",
            " 8   FoodCourt     7668 non-null   float64\n",
            " 9   ShoppingMall  7635 non-null   float64\n",
            " 10  Spa           7665 non-null   float64\n",
            " 11  VRDeck        7654 non-null   float64\n",
            " 12  Name          7639 non-null   object \n",
            " 13  Transported   7823 non-null   int64  \n",
            "dtypes: float64(6), int64(2), object(6)\n",
            "memory usage: 855.8+ KB\n"
          ]
        }
      ]
    },
    {
      "cell_type": "code",
      "source": [
        "#Analizamos la cantidad de datos faltantes\n",
        "missing_values_count = df.isna().sum()\n",
        "missing_values_count"
      ],
      "metadata": {
        "colab": {
          "base_uri": "https://localhost:8080/"
        },
        "id": "-MOLlEYZKTqQ",
        "outputId": "1f5705ab-d68c-4a42-f334-226bfc52ea7a"
      },
      "execution_count": null,
      "outputs": [
        {
          "output_type": "execute_result",
          "data": {
            "text/plain": [
              "PassengerId       0\n",
              "HomePlanet      179\n",
              "CryoSleep       196\n",
              "Cabin           184\n",
              "Destination     160\n",
              "Age             162\n",
              "VIP             184\n",
              "RoomService     154\n",
              "FoodCourt       155\n",
              "ShoppingMall    188\n",
              "Spa             158\n",
              "VRDeck          169\n",
              "Name            184\n",
              "Transported       0\n",
              "dtype: int64"
            ]
          },
          "metadata": {},
          "execution_count": 8
        }
      ]
    },
    {
      "cell_type": "markdown",
      "source": [
        "### Imputacion y transformacion de variables"
      ],
      "metadata": {
        "id": "j_Uxf1xiettB"
      }
    },
    {
      "cell_type": "code",
      "execution_count": null,
      "metadata": {
        "id": "bugQterLcPxg"
      },
      "outputs": [],
      "source": [
        "# Extraemos nuestro target del resto de variables\n",
        "y = df.Transported\n",
        "X = df.copy()"
      ]
    },
    {
      "cell_type": "code",
      "source": [
        "# Para la Columna Destino cambiamos los nombres de las columnas\n",
        "dic_dest = {'TRAPPIST-1e' : 'Destination_TRAPPIST-1e',\n",
        "        '55 Cancri e' : 'Destination_55 Cancri e',\n",
        "        'PSO J318.5-22' : 'Destination_PSO J318.5-22',\n",
        "        np.nan : np.nan}\n",
        "X['Destination'] = X['Destination'].map(dic_dest)"
      ],
      "metadata": {
        "id": "6twc_68mtVz2"
      },
      "execution_count": null,
      "outputs": []
    },
    {
      "cell_type": "code",
      "source": [
        "# Hacemos un one hot ( con get.dummies) dividiendo las categorias de destino\n",
        "x_dest = pd.get_dummies(X['Destination'])\n",
        "for i in range(len(x_dest)):\n",
        "    if (x_dest.iloc[i,0]+x_dest.iloc[i,1]+x_dest.iloc[i,2]) == 0:\n",
        "        x_dest.iloc[i,:] = x_dest.iloc[i,:].replace(0, np.nan)\n",
        "a = x_dest.columns\n",
        "X[a] = x_dest"
      ],
      "metadata": {
        "id": "DI_01OpstapY"
      },
      "execution_count": null,
      "outputs": []
    },
    {
      "cell_type": "code",
      "source": [
        "# Para la Columna HomePlanet cambiamos los nombres \n",
        "dic_planet = {'Earth' : 'HomePlanet_Earth',\n",
        "              'Europa' : 'HomePlanet_Europa',\n",
        "              'Mars' : 'HomePlanet_Mars',\n",
        "              np.nan : np.nan}\n",
        "X['HomePlanet'] = X['HomePlanet'].map(dic_planet)"
      ],
      "metadata": {
        "id": "0BHR9ihhs5gW"
      },
      "execution_count": null,
      "outputs": []
    },
    {
      "cell_type": "code",
      "source": [
        "# Hacemos un one hot dividiendo las categorias de destino\n",
        "x_home = pd.get_dummies(X['HomePlanet'])\n",
        "for i in range(len(x_dest)):\n",
        "    if (x_home.iloc[i,0]+x_home.iloc[i,1]+x_home.iloc[i,2]) == 0:\n",
        "        x_home.iloc[i,:] = x_home.iloc[i,:].replace(0, np.nan)\n",
        "a = x_home.columns\n",
        "X[a] = x_home"
      ],
      "metadata": {
        "id": "QkEERhiVvrru"
      },
      "execution_count": null,
      "outputs": []
    },
    {
      "cell_type": "code",
      "source": [
        "#Separamos en tres columnas \"Cabin\"\n",
        "X[['Cabin_Deck','Cabin_Num','Cabin_Side']] = X['Cabin'].str.split('/',expand=True)"
      ],
      "metadata": {
        "id": "nDWhGKIkmnTZ"
      },
      "execution_count": null,
      "outputs": []
    },
    {
      "cell_type": "code",
      "source": [
        "# hacemos encodig de variables categoricas que tienen un cierto orden\n",
        "Label_cols = ['VIP', 'CryoSleep', 'Cabin_Deck', 'Cabin_Side' ]\n",
        "for col in Label_cols:\n",
        "    X[col] = LabelEncoder().fit_transform(X[col])"
      ],
      "metadata": {
        "id": "IMqG-m3n1Bzy"
      },
      "execution_count": null,
      "outputs": []
    },
    {
      "cell_type": "code",
      "source": [
        "# Volvemos a  definir las variables nan para luego ser imputadas \n",
        "Label_col = ['VIP', 'CryoSleep', 'Cabin_Side' ]\n",
        "X[Label_col] = X[Label_col].replace(2, np.nan)\n",
        "X['Cabin_Deck'] = X['Cabin_Deck'].replace(8, np.nan)"
      ],
      "metadata": {
        "id": "P2V6NbFLwfwm"
      },
      "execution_count": null,
      "outputs": []
    },
    {
      "cell_type": "code",
      "source": [
        "#limpiamos el dataset antes de imputar los valores faltantes\n",
        "X = X.drop(['Cabin', 'Destination', 'HomePlanet', 'Name', 'PassengerId'],axis=1)"
      ],
      "metadata": {
        "id": "27OsbDiSzWlX"
      },
      "execution_count": null,
      "outputs": []
    },
    {
      "cell_type": "code",
      "source": [
        "X.isna().sum()"
      ],
      "metadata": {
        "colab": {
          "base_uri": "https://localhost:8080/"
        },
        "id": "RN70GKTF2HvM",
        "outputId": "bb6fb7bd-f022-493c-b07f-c280e84e4445"
      },
      "execution_count": null,
      "outputs": [
        {
          "output_type": "execute_result",
          "data": {
            "text/plain": [
              "CryoSleep                    196\n",
              "Age                          162\n",
              "VIP                          184\n",
              "RoomService                  154\n",
              "FoodCourt                    155\n",
              "ShoppingMall                 188\n",
              "Spa                          158\n",
              "VRDeck                       169\n",
              "Transported                    0\n",
              "Destination_55 Cancri e      160\n",
              "Destination_PSO J318.5-22    160\n",
              "Destination_TRAPPIST-1e      160\n",
              "HomePlanet_Earth             179\n",
              "HomePlanet_Europa            179\n",
              "HomePlanet_Mars              179\n",
              "Cabin_Deck                   184\n",
              "Cabin_Num                    184\n",
              "Cabin_Side                   184\n",
              "dtype: int64"
            ]
          },
          "metadata": {},
          "execution_count": 14
        }
      ]
    },
    {
      "cell_type": "code",
      "source": [
        "X['Cabin_Num'] = X['Cabin_Num'].astype(float)\n",
        "X.info()"
      ],
      "metadata": {
        "colab": {
          "base_uri": "https://localhost:8080/"
        },
        "id": "aktFrm6l4HEB",
        "outputId": "6d81fc6d-cbd6-452e-b67c-a8e7a9b9b1b9"
      },
      "execution_count": null,
      "outputs": [
        {
          "output_type": "stream",
          "name": "stdout",
          "text": [
            "<class 'pandas.core.frame.DataFrame'>\n",
            "RangeIndex: 7823 entries, 0 to 7822\n",
            "Data columns (total 18 columns):\n",
            " #   Column                     Non-Null Count  Dtype  \n",
            "---  ------                     --------------  -----  \n",
            " 0   CryoSleep                  7627 non-null   float64\n",
            " 1   Age                        7661 non-null   float64\n",
            " 2   VIP                        7639 non-null   float64\n",
            " 3   RoomService                7669 non-null   float64\n",
            " 4   FoodCourt                  7668 non-null   float64\n",
            " 5   ShoppingMall               7635 non-null   float64\n",
            " 6   Spa                        7665 non-null   float64\n",
            " 7   VRDeck                     7654 non-null   float64\n",
            " 8   Transported                7823 non-null   int64  \n",
            " 9   Destination_55 Cancri e    7663 non-null   float64\n",
            " 10  Destination_PSO J318.5-22  7663 non-null   float64\n",
            " 11  Destination_TRAPPIST-1e    7663 non-null   float64\n",
            " 12  HomePlanet_Earth           7644 non-null   float64\n",
            " 13  HomePlanet_Europa          7644 non-null   float64\n",
            " 14  HomePlanet_Mars            7644 non-null   float64\n",
            " 15  Cabin_Deck                 7639 non-null   float64\n",
            " 16  Cabin_Num                  7639 non-null   float64\n",
            " 17  Cabin_Side                 7639 non-null   float64\n",
            "dtypes: float64(17), int64(1)\n",
            "memory usage: 1.1 MB\n"
          ]
        }
      ]
    },
    {
      "cell_type": "code",
      "source": [
        "# Standarizamos y escalamos los valores antes de imputar\n",
        "x_names = X.columns\n",
        "scaler = StandardScaler()\n",
        "X = scaler.fit_transform(X)"
      ],
      "metadata": {
        "id": "En8PUQW44kG6"
      },
      "execution_count": null,
      "outputs": []
    },
    {
      "cell_type": "code",
      "source": [
        "# Imputamos todos los valores con knnimputer\n",
        "from sklearn.impute import KNNImputer\n",
        "\n",
        "X_knn = X.copy()\n",
        "knn_imputer = KNNImputer(n_neighbors=9, weights=\"uniform\")\n",
        "X_knn = knn_imputer.fit_transform(X_knn)\n",
        "\n",
        "# Volvemos a combertirlo en DF\n",
        "X_knn = pd.DataFrame(X_knn, columns=x_names)\n",
        "X_knn"
      ],
      "metadata": {
        "colab": {
          "base_uri": "https://localhost:8080/",
          "height": 505
        },
        "id": "w4KaMLtm3OM7",
        "outputId": "2cdca8ee-08de-492b-de3c-8f81f1b9a56f"
      },
      "execution_count": null,
      "outputs": [
        {
          "output_type": "execute_result",
          "data": {
            "text/plain": [
              "      CryoSleep       Age       VIP  RoomService  FoodCourt  ShoppingMall  \\\n",
              "0     -0.752195  1.944636 -0.156665    -0.332891   2.099303     -0.266942   \n",
              "1      1.329442 -0.752347 -0.156665    -0.332891  -0.281056     -0.288685   \n",
              "2      1.329442  0.284954 -0.156665    -0.332891  -0.281056     -0.288685   \n",
              "3     -0.752195  0.976488 -0.156665    -0.123802   0.464079     -0.288685   \n",
              "4     -0.752195 -0.683193 -0.156665    -0.332891  -0.281056      0.831932   \n",
              "...         ...       ...       ...          ...        ...           ...   \n",
              "7818  -0.752195 -1.167267 -0.156665    -0.332891  -0.281056     -0.288685   \n",
              "7819  -0.752195  1.045642 -0.156665    -0.332891  -0.281056      0.955702   \n",
              "7820   1.329442  1.806329 -0.156665    -0.332891  -0.281056     -0.288685   \n",
              "7821  -0.752195 -0.959807 -0.156665    -0.332891   0.237084     -0.082960   \n",
              "7822   1.329442  1.114795 -0.156665    -0.332891  -0.281056     -0.288685   \n",
              "\n",
              "           Spa    VRDeck  Transported  Destination_55 Cancri e  \\\n",
              "0    -0.097078  3.272797    -1.013513                -0.518776   \n",
              "1    -0.269134 -0.270233     0.986667                -0.246955   \n",
              "2    -0.269134 -0.270233     0.986667                -0.518776   \n",
              "3    -0.269134 -0.083662    -1.013513                -0.518776   \n",
              "4    -0.268252 -0.239138    -1.013513                -0.518776   \n",
              "...        ...       ...          ...                      ...   \n",
              "7818 -0.269134 -0.270233     0.986667                -0.518776   \n",
              "7819 -0.214429 -0.267489    -1.013513                -0.518776   \n",
              "7820 -0.269134 -0.270233     0.986667                -0.518776   \n",
              "7821 -0.269134 -0.251942    -1.013513                -0.518776   \n",
              "7822 -0.269134 -0.270233     0.986667                 1.927613   \n",
              "\n",
              "      Destination_PSO J318.5-22  Destination_TRAPPIST-1e  HomePlanet_Earth  \\\n",
              "0                     -0.322521                 0.664453         -1.079555   \n",
              "1                     -0.322521                 0.423403         -1.079555   \n",
              "2                     -0.322521                 0.664453         -1.079555   \n",
              "3                     -0.322521                 0.664453          0.926308   \n",
              "4                     -0.322521                 0.664453          0.926308   \n",
              "...                         ...                      ...               ...   \n",
              "7818                  -0.322521                 0.664453         -1.079555   \n",
              "7819                  -0.322521                 0.664453          0.926308   \n",
              "7820                  -0.322521                 0.664453         -1.079555   \n",
              "7821                  -0.322521                 0.664453          0.926308   \n",
              "7822                  -0.322521                -1.504998         -1.079555   \n",
              "\n",
              "      HomePlanet_Europa  HomePlanet_Mars  Cabin_Deck  Cabin_Num  Cabin_Side  \n",
              "0              1.717669        -0.513498   -1.288175  -0.929337   -1.005118  \n",
              "1             -0.582184         1.947428    0.394898  -0.923471    0.994908  \n",
              "2              1.717669        -0.513498   -1.849199  -0.499119    0.994908  \n",
              "3             -0.582184        -0.513498    0.394898   1.606993   -1.005118  \n",
              "4             -0.582184        -0.513498    0.955922  -1.152268   -1.005118  \n",
              "...                 ...              ...         ...        ...         ...  \n",
              "7818          -0.582184         1.947428    0.394898   1.409484    0.994908  \n",
              "7819          -0.582184        -0.513498    0.955922  -0.272277    0.994908  \n",
              "7820          -0.582184         1.947428    0.394898   2.295342   -1.005118  \n",
              "7821          -0.582184        -0.513498   -0.166126  -0.675118   -1.005118  \n",
              "7822           1.717669        -0.513498   -1.849199  -0.641873   -1.005118  \n",
              "\n",
              "[7823 rows x 18 columns]"
            ],
            "text/html": [
              "\n",
              "  <div id=\"df-66e29355-4794-4b1d-ace1-a1b811b18199\">\n",
              "    <div class=\"colab-df-container\">\n",
              "      <div>\n",
              "<style scoped>\n",
              "    .dataframe tbody tr th:only-of-type {\n",
              "        vertical-align: middle;\n",
              "    }\n",
              "\n",
              "    .dataframe tbody tr th {\n",
              "        vertical-align: top;\n",
              "    }\n",
              "\n",
              "    .dataframe thead th {\n",
              "        text-align: right;\n",
              "    }\n",
              "</style>\n",
              "<table border=\"1\" class=\"dataframe\">\n",
              "  <thead>\n",
              "    <tr style=\"text-align: right;\">\n",
              "      <th></th>\n",
              "      <th>CryoSleep</th>\n",
              "      <th>Age</th>\n",
              "      <th>VIP</th>\n",
              "      <th>RoomService</th>\n",
              "      <th>FoodCourt</th>\n",
              "      <th>ShoppingMall</th>\n",
              "      <th>Spa</th>\n",
              "      <th>VRDeck</th>\n",
              "      <th>Transported</th>\n",
              "      <th>Destination_55 Cancri e</th>\n",
              "      <th>Destination_PSO J318.5-22</th>\n",
              "      <th>Destination_TRAPPIST-1e</th>\n",
              "      <th>HomePlanet_Earth</th>\n",
              "      <th>HomePlanet_Europa</th>\n",
              "      <th>HomePlanet_Mars</th>\n",
              "      <th>Cabin_Deck</th>\n",
              "      <th>Cabin_Num</th>\n",
              "      <th>Cabin_Side</th>\n",
              "    </tr>\n",
              "  </thead>\n",
              "  <tbody>\n",
              "    <tr>\n",
              "      <th>0</th>\n",
              "      <td>-0.752195</td>\n",
              "      <td>1.944636</td>\n",
              "      <td>-0.156665</td>\n",
              "      <td>-0.332891</td>\n",
              "      <td>2.099303</td>\n",
              "      <td>-0.266942</td>\n",
              "      <td>-0.097078</td>\n",
              "      <td>3.272797</td>\n",
              "      <td>-1.013513</td>\n",
              "      <td>-0.518776</td>\n",
              "      <td>-0.322521</td>\n",
              "      <td>0.664453</td>\n",
              "      <td>-1.079555</td>\n",
              "      <td>1.717669</td>\n",
              "      <td>-0.513498</td>\n",
              "      <td>-1.288175</td>\n",
              "      <td>-0.929337</td>\n",
              "      <td>-1.005118</td>\n",
              "    </tr>\n",
              "    <tr>\n",
              "      <th>1</th>\n",
              "      <td>1.329442</td>\n",
              "      <td>-0.752347</td>\n",
              "      <td>-0.156665</td>\n",
              "      <td>-0.332891</td>\n",
              "      <td>-0.281056</td>\n",
              "      <td>-0.288685</td>\n",
              "      <td>-0.269134</td>\n",
              "      <td>-0.270233</td>\n",
              "      <td>0.986667</td>\n",
              "      <td>-0.246955</td>\n",
              "      <td>-0.322521</td>\n",
              "      <td>0.423403</td>\n",
              "      <td>-1.079555</td>\n",
              "      <td>-0.582184</td>\n",
              "      <td>1.947428</td>\n",
              "      <td>0.394898</td>\n",
              "      <td>-0.923471</td>\n",
              "      <td>0.994908</td>\n",
              "    </tr>\n",
              "    <tr>\n",
              "      <th>2</th>\n",
              "      <td>1.329442</td>\n",
              "      <td>0.284954</td>\n",
              "      <td>-0.156665</td>\n",
              "      <td>-0.332891</td>\n",
              "      <td>-0.281056</td>\n",
              "      <td>-0.288685</td>\n",
              "      <td>-0.269134</td>\n",
              "      <td>-0.270233</td>\n",
              "      <td>0.986667</td>\n",
              "      <td>-0.518776</td>\n",
              "      <td>-0.322521</td>\n",
              "      <td>0.664453</td>\n",
              "      <td>-1.079555</td>\n",
              "      <td>1.717669</td>\n",
              "      <td>-0.513498</td>\n",
              "      <td>-1.849199</td>\n",
              "      <td>-0.499119</td>\n",
              "      <td>0.994908</td>\n",
              "    </tr>\n",
              "    <tr>\n",
              "      <th>3</th>\n",
              "      <td>-0.752195</td>\n",
              "      <td>0.976488</td>\n",
              "      <td>-0.156665</td>\n",
              "      <td>-0.123802</td>\n",
              "      <td>0.464079</td>\n",
              "      <td>-0.288685</td>\n",
              "      <td>-0.269134</td>\n",
              "      <td>-0.083662</td>\n",
              "      <td>-1.013513</td>\n",
              "      <td>-0.518776</td>\n",
              "      <td>-0.322521</td>\n",
              "      <td>0.664453</td>\n",
              "      <td>0.926308</td>\n",
              "      <td>-0.582184</td>\n",
              "      <td>-0.513498</td>\n",
              "      <td>0.394898</td>\n",
              "      <td>1.606993</td>\n",
              "      <td>-1.005118</td>\n",
              "    </tr>\n",
              "    <tr>\n",
              "      <th>4</th>\n",
              "      <td>-0.752195</td>\n",
              "      <td>-0.683193</td>\n",
              "      <td>-0.156665</td>\n",
              "      <td>-0.332891</td>\n",
              "      <td>-0.281056</td>\n",
              "      <td>0.831932</td>\n",
              "      <td>-0.268252</td>\n",
              "      <td>-0.239138</td>\n",
              "      <td>-1.013513</td>\n",
              "      <td>-0.518776</td>\n",
              "      <td>-0.322521</td>\n",
              "      <td>0.664453</td>\n",
              "      <td>0.926308</td>\n",
              "      <td>-0.582184</td>\n",
              "      <td>-0.513498</td>\n",
              "      <td>0.955922</td>\n",
              "      <td>-1.152268</td>\n",
              "      <td>-1.005118</td>\n",
              "    </tr>\n",
              "    <tr>\n",
              "      <th>...</th>\n",
              "      <td>...</td>\n",
              "      <td>...</td>\n",
              "      <td>...</td>\n",
              "      <td>...</td>\n",
              "      <td>...</td>\n",
              "      <td>...</td>\n",
              "      <td>...</td>\n",
              "      <td>...</td>\n",
              "      <td>...</td>\n",
              "      <td>...</td>\n",
              "      <td>...</td>\n",
              "      <td>...</td>\n",
              "      <td>...</td>\n",
              "      <td>...</td>\n",
              "      <td>...</td>\n",
              "      <td>...</td>\n",
              "      <td>...</td>\n",
              "      <td>...</td>\n",
              "    </tr>\n",
              "    <tr>\n",
              "      <th>7818</th>\n",
              "      <td>-0.752195</td>\n",
              "      <td>-1.167267</td>\n",
              "      <td>-0.156665</td>\n",
              "      <td>-0.332891</td>\n",
              "      <td>-0.281056</td>\n",
              "      <td>-0.288685</td>\n",
              "      <td>-0.269134</td>\n",
              "      <td>-0.270233</td>\n",
              "      <td>0.986667</td>\n",
              "      <td>-0.518776</td>\n",
              "      <td>-0.322521</td>\n",
              "      <td>0.664453</td>\n",
              "      <td>-1.079555</td>\n",
              "      <td>-0.582184</td>\n",
              "      <td>1.947428</td>\n",
              "      <td>0.394898</td>\n",
              "      <td>1.409484</td>\n",
              "      <td>0.994908</td>\n",
              "    </tr>\n",
              "    <tr>\n",
              "      <th>7819</th>\n",
              "      <td>-0.752195</td>\n",
              "      <td>1.045642</td>\n",
              "      <td>-0.156665</td>\n",
              "      <td>-0.332891</td>\n",
              "      <td>-0.281056</td>\n",
              "      <td>0.955702</td>\n",
              "      <td>-0.214429</td>\n",
              "      <td>-0.267489</td>\n",
              "      <td>-1.013513</td>\n",
              "      <td>-0.518776</td>\n",
              "      <td>-0.322521</td>\n",
              "      <td>0.664453</td>\n",
              "      <td>0.926308</td>\n",
              "      <td>-0.582184</td>\n",
              "      <td>-0.513498</td>\n",
              "      <td>0.955922</td>\n",
              "      <td>-0.272277</td>\n",
              "      <td>0.994908</td>\n",
              "    </tr>\n",
              "    <tr>\n",
              "      <th>7820</th>\n",
              "      <td>1.329442</td>\n",
              "      <td>1.806329</td>\n",
              "      <td>-0.156665</td>\n",
              "      <td>-0.332891</td>\n",
              "      <td>-0.281056</td>\n",
              "      <td>-0.288685</td>\n",
              "      <td>-0.269134</td>\n",
              "      <td>-0.270233</td>\n",
              "      <td>0.986667</td>\n",
              "      <td>-0.518776</td>\n",
              "      <td>-0.322521</td>\n",
              "      <td>0.664453</td>\n",
              "      <td>-1.079555</td>\n",
              "      <td>-0.582184</td>\n",
              "      <td>1.947428</td>\n",
              "      <td>0.394898</td>\n",
              "      <td>2.295342</td>\n",
              "      <td>-1.005118</td>\n",
              "    </tr>\n",
              "    <tr>\n",
              "      <th>7821</th>\n",
              "      <td>-0.752195</td>\n",
              "      <td>-0.959807</td>\n",
              "      <td>-0.156665</td>\n",
              "      <td>-0.332891</td>\n",
              "      <td>0.237084</td>\n",
              "      <td>-0.082960</td>\n",
              "      <td>-0.269134</td>\n",
              "      <td>-0.251942</td>\n",
              "      <td>-1.013513</td>\n",
              "      <td>-0.518776</td>\n",
              "      <td>-0.322521</td>\n",
              "      <td>0.664453</td>\n",
              "      <td>0.926308</td>\n",
              "      <td>-0.582184</td>\n",
              "      <td>-0.513498</td>\n",
              "      <td>-0.166126</td>\n",
              "      <td>-0.675118</td>\n",
              "      <td>-1.005118</td>\n",
              "    </tr>\n",
              "    <tr>\n",
              "      <th>7822</th>\n",
              "      <td>1.329442</td>\n",
              "      <td>1.114795</td>\n",
              "      <td>-0.156665</td>\n",
              "      <td>-0.332891</td>\n",
              "      <td>-0.281056</td>\n",
              "      <td>-0.288685</td>\n",
              "      <td>-0.269134</td>\n",
              "      <td>-0.270233</td>\n",
              "      <td>0.986667</td>\n",
              "      <td>1.927613</td>\n",
              "      <td>-0.322521</td>\n",
              "      <td>-1.504998</td>\n",
              "      <td>-1.079555</td>\n",
              "      <td>1.717669</td>\n",
              "      <td>-0.513498</td>\n",
              "      <td>-1.849199</td>\n",
              "      <td>-0.641873</td>\n",
              "      <td>-1.005118</td>\n",
              "    </tr>\n",
              "  </tbody>\n",
              "</table>\n",
              "<p>7823 rows × 18 columns</p>\n",
              "</div>\n",
              "      <button class=\"colab-df-convert\" onclick=\"convertToInteractive('df-66e29355-4794-4b1d-ace1-a1b811b18199')\"\n",
              "              title=\"Convert this dataframe to an interactive table.\"\n",
              "              style=\"display:none;\">\n",
              "        \n",
              "  <svg xmlns=\"http://www.w3.org/2000/svg\" height=\"24px\"viewBox=\"0 0 24 24\"\n",
              "       width=\"24px\">\n",
              "    <path d=\"M0 0h24v24H0V0z\" fill=\"none\"/>\n",
              "    <path d=\"M18.56 5.44l.94 2.06.94-2.06 2.06-.94-2.06-.94-.94-2.06-.94 2.06-2.06.94zm-11 1L8.5 8.5l.94-2.06 2.06-.94-2.06-.94L8.5 2.5l-.94 2.06-2.06.94zm10 10l.94 2.06.94-2.06 2.06-.94-2.06-.94-.94-2.06-.94 2.06-2.06.94z\"/><path d=\"M17.41 7.96l-1.37-1.37c-.4-.4-.92-.59-1.43-.59-.52 0-1.04.2-1.43.59L10.3 9.45l-7.72 7.72c-.78.78-.78 2.05 0 2.83L4 21.41c.39.39.9.59 1.41.59.51 0 1.02-.2 1.41-.59l7.78-7.78 2.81-2.81c.8-.78.8-2.07 0-2.86zM5.41 20L4 18.59l7.72-7.72 1.47 1.35L5.41 20z\"/>\n",
              "  </svg>\n",
              "      </button>\n",
              "      \n",
              "  <style>\n",
              "    .colab-df-container {\n",
              "      display:flex;\n",
              "      flex-wrap:wrap;\n",
              "      gap: 12px;\n",
              "    }\n",
              "\n",
              "    .colab-df-convert {\n",
              "      background-color: #E8F0FE;\n",
              "      border: none;\n",
              "      border-radius: 50%;\n",
              "      cursor: pointer;\n",
              "      display: none;\n",
              "      fill: #1967D2;\n",
              "      height: 32px;\n",
              "      padding: 0 0 0 0;\n",
              "      width: 32px;\n",
              "    }\n",
              "\n",
              "    .colab-df-convert:hover {\n",
              "      background-color: #E2EBFA;\n",
              "      box-shadow: 0px 1px 2px rgba(60, 64, 67, 0.3), 0px 1px 3px 1px rgba(60, 64, 67, 0.15);\n",
              "      fill: #174EA6;\n",
              "    }\n",
              "\n",
              "    [theme=dark] .colab-df-convert {\n",
              "      background-color: #3B4455;\n",
              "      fill: #D2E3FC;\n",
              "    }\n",
              "\n",
              "    [theme=dark] .colab-df-convert:hover {\n",
              "      background-color: #434B5C;\n",
              "      box-shadow: 0px 1px 3px 1px rgba(0, 0, 0, 0.15);\n",
              "      filter: drop-shadow(0px 1px 2px rgba(0, 0, 0, 0.3));\n",
              "      fill: #FFFFFF;\n",
              "    }\n",
              "  </style>\n",
              "\n",
              "      <script>\n",
              "        const buttonEl =\n",
              "          document.querySelector('#df-66e29355-4794-4b1d-ace1-a1b811b18199 button.colab-df-convert');\n",
              "        buttonEl.style.display =\n",
              "          google.colab.kernel.accessAllowed ? 'block' : 'none';\n",
              "\n",
              "        async function convertToInteractive(key) {\n",
              "          const element = document.querySelector('#df-66e29355-4794-4b1d-ace1-a1b811b18199');\n",
              "          const dataTable =\n",
              "            await google.colab.kernel.invokeFunction('convertToInteractive',\n",
              "                                                     [key], {});\n",
              "          if (!dataTable) return;\n",
              "\n",
              "          const docLinkHtml = 'Like what you see? Visit the ' +\n",
              "            '<a target=\"_blank\" href=https://colab.research.google.com/notebooks/data_table.ipynb>data table notebook</a>'\n",
              "            + ' to learn more about interactive tables.';\n",
              "          element.innerHTML = '';\n",
              "          dataTable['output_type'] = 'display_data';\n",
              "          await google.colab.output.renderOutput(dataTable, element);\n",
              "          const docLink = document.createElement('div');\n",
              "          docLink.innerHTML = docLinkHtml;\n",
              "          element.appendChild(docLink);\n",
              "        }\n",
              "      </script>\n",
              "    </div>\n",
              "  </div>\n",
              "  "
            ]
          },
          "metadata": {},
          "execution_count": 17
        }
      ]
    },
    {
      "cell_type": "code",
      "source": [
        "X_knn.describe()"
      ],
      "metadata": {
        "colab": {
          "base_uri": "https://localhost:8080/",
          "height": 382
        },
        "id": "9QuPWuAY1qPK",
        "outputId": "9abc977f-e526-4599-d664-d6a3f009bd07"
      },
      "execution_count": null,
      "outputs": [
        {
          "output_type": "execute_result",
          "data": {
            "text/plain": [
              "         CryoSleep          Age          VIP  RoomService    FoodCourt  \\\n",
              "count  7823.000000  7823.000000  7823.000000  7823.000000  7823.000000   \n",
              "mean      0.004038     0.000265    -0.000898     0.001151    -0.000737   \n",
              "std       0.996771     0.991958     0.989448     0.993913     0.994100   \n",
              "min      -0.752195    -1.997108    -0.156665    -0.332891    -0.281056   \n",
              "25%      -0.752195    -0.614040    -0.156665    -0.332891    -0.281056   \n",
              "50%      -0.752195    -0.129966    -0.156665    -0.332891    -0.281056   \n",
              "75%       1.329442     0.630721    -0.156665    -0.256323    -0.232874   \n",
              "max       1.329442     3.466011     6.383038    20.763035    18.108586   \n",
              "\n",
              "       ShoppingMall          Spa       VRDeck   Transported  \\\n",
              "count   7823.000000  7823.000000  7823.000000  7.823000e+03   \n",
              "mean       0.000437     0.000082    -0.000232 -9.173567e-17   \n",
              "std        0.991819     0.992510     0.994674  1.000064e+00   \n",
              "min       -0.288685    -0.269134    -0.270233 -1.013513e+00   \n",
              "25%       -0.288685    -0.269134    -0.270233 -1.013513e+00   \n",
              "50%       -0.288685    -0.269134    -0.270233  9.866669e-01   \n",
              "75%       -0.235999    -0.211782    -0.221304  9.866669e-01   \n",
              "max       39.003179    19.502346    21.800998  9.866669e-01   \n",
              "\n",
              "       Destination_55 Cancri e  Destination_PSO J318.5-22  \\\n",
              "count              7823.000000                7823.000000   \n",
              "mean                 -0.000742                  -0.000373   \n",
              "std                   0.992037                   0.991576   \n",
              "min                  -0.518776                  -0.322521   \n",
              "25%                  -0.518776                  -0.322521   \n",
              "50%                  -0.518776                  -0.322521   \n",
              "75%                  -0.518776                  -0.322521   \n",
              "max                   1.927613                   3.100576   \n",
              "\n",
              "       Destination_TRAPPIST-1e  HomePlanet_Earth  HomePlanet_Europa  \\\n",
              "count              7823.000000       7823.000000        7823.000000   \n",
              "mean                  0.000895          0.001623          -0.002934   \n",
              "std                   0.991675          0.995355           0.995151   \n",
              "min                  -1.504998         -1.079555          -0.582184   \n",
              "25%                  -1.504998         -1.079555          -0.582184   \n",
              "50%                   0.664453          0.926308          -0.582184   \n",
              "75%                   0.664453          0.926308           1.206591   \n",
              "max                   0.664453          0.926308           1.717669   \n",
              "\n",
              "       HomePlanet_Mars   Cabin_Deck    Cabin_Num   Cabin_Side  \n",
              "count      7823.000000  7823.000000  7823.000000  7823.000000  \n",
              "mean          0.001148    -0.002330    -0.001147     0.001755  \n",
              "std           0.993948     0.998767     0.992585     0.989710  \n",
              "min          -0.513498    -2.410223    -1.169868    -1.005118  \n",
              "25%          -0.513498    -0.727150    -0.837427    -1.005118  \n",
              "50%          -0.513498     0.394898    -0.328988     0.106007  \n",
              "75%          -0.513498     0.955922     0.748513     0.994908  \n",
              "max           1.947428     1.516947     2.531962     0.994908  "
            ],
            "text/html": [
              "\n",
              "  <div id=\"df-cbe46fc3-b954-47d3-839b-3e04e5b6305c\">\n",
              "    <div class=\"colab-df-container\">\n",
              "      <div>\n",
              "<style scoped>\n",
              "    .dataframe tbody tr th:only-of-type {\n",
              "        vertical-align: middle;\n",
              "    }\n",
              "\n",
              "    .dataframe tbody tr th {\n",
              "        vertical-align: top;\n",
              "    }\n",
              "\n",
              "    .dataframe thead th {\n",
              "        text-align: right;\n",
              "    }\n",
              "</style>\n",
              "<table border=\"1\" class=\"dataframe\">\n",
              "  <thead>\n",
              "    <tr style=\"text-align: right;\">\n",
              "      <th></th>\n",
              "      <th>CryoSleep</th>\n",
              "      <th>Age</th>\n",
              "      <th>VIP</th>\n",
              "      <th>RoomService</th>\n",
              "      <th>FoodCourt</th>\n",
              "      <th>ShoppingMall</th>\n",
              "      <th>Spa</th>\n",
              "      <th>VRDeck</th>\n",
              "      <th>Transported</th>\n",
              "      <th>Destination_55 Cancri e</th>\n",
              "      <th>Destination_PSO J318.5-22</th>\n",
              "      <th>Destination_TRAPPIST-1e</th>\n",
              "      <th>HomePlanet_Earth</th>\n",
              "      <th>HomePlanet_Europa</th>\n",
              "      <th>HomePlanet_Mars</th>\n",
              "      <th>Cabin_Deck</th>\n",
              "      <th>Cabin_Num</th>\n",
              "      <th>Cabin_Side</th>\n",
              "    </tr>\n",
              "  </thead>\n",
              "  <tbody>\n",
              "    <tr>\n",
              "      <th>count</th>\n",
              "      <td>7823.000000</td>\n",
              "      <td>7823.000000</td>\n",
              "      <td>7823.000000</td>\n",
              "      <td>7823.000000</td>\n",
              "      <td>7823.000000</td>\n",
              "      <td>7823.000000</td>\n",
              "      <td>7823.000000</td>\n",
              "      <td>7823.000000</td>\n",
              "      <td>7.823000e+03</td>\n",
              "      <td>7823.000000</td>\n",
              "      <td>7823.000000</td>\n",
              "      <td>7823.000000</td>\n",
              "      <td>7823.000000</td>\n",
              "      <td>7823.000000</td>\n",
              "      <td>7823.000000</td>\n",
              "      <td>7823.000000</td>\n",
              "      <td>7823.000000</td>\n",
              "      <td>7823.000000</td>\n",
              "    </tr>\n",
              "    <tr>\n",
              "      <th>mean</th>\n",
              "      <td>0.004038</td>\n",
              "      <td>0.000265</td>\n",
              "      <td>-0.000898</td>\n",
              "      <td>0.001151</td>\n",
              "      <td>-0.000737</td>\n",
              "      <td>0.000437</td>\n",
              "      <td>0.000082</td>\n",
              "      <td>-0.000232</td>\n",
              "      <td>-9.173567e-17</td>\n",
              "      <td>-0.000742</td>\n",
              "      <td>-0.000373</td>\n",
              "      <td>0.000895</td>\n",
              "      <td>0.001623</td>\n",
              "      <td>-0.002934</td>\n",
              "      <td>0.001148</td>\n",
              "      <td>-0.002330</td>\n",
              "      <td>-0.001147</td>\n",
              "      <td>0.001755</td>\n",
              "    </tr>\n",
              "    <tr>\n",
              "      <th>std</th>\n",
              "      <td>0.996771</td>\n",
              "      <td>0.991958</td>\n",
              "      <td>0.989448</td>\n",
              "      <td>0.993913</td>\n",
              "      <td>0.994100</td>\n",
              "      <td>0.991819</td>\n",
              "      <td>0.992510</td>\n",
              "      <td>0.994674</td>\n",
              "      <td>1.000064e+00</td>\n",
              "      <td>0.992037</td>\n",
              "      <td>0.991576</td>\n",
              "      <td>0.991675</td>\n",
              "      <td>0.995355</td>\n",
              "      <td>0.995151</td>\n",
              "      <td>0.993948</td>\n",
              "      <td>0.998767</td>\n",
              "      <td>0.992585</td>\n",
              "      <td>0.989710</td>\n",
              "    </tr>\n",
              "    <tr>\n",
              "      <th>min</th>\n",
              "      <td>-0.752195</td>\n",
              "      <td>-1.997108</td>\n",
              "      <td>-0.156665</td>\n",
              "      <td>-0.332891</td>\n",
              "      <td>-0.281056</td>\n",
              "      <td>-0.288685</td>\n",
              "      <td>-0.269134</td>\n",
              "      <td>-0.270233</td>\n",
              "      <td>-1.013513e+00</td>\n",
              "      <td>-0.518776</td>\n",
              "      <td>-0.322521</td>\n",
              "      <td>-1.504998</td>\n",
              "      <td>-1.079555</td>\n",
              "      <td>-0.582184</td>\n",
              "      <td>-0.513498</td>\n",
              "      <td>-2.410223</td>\n",
              "      <td>-1.169868</td>\n",
              "      <td>-1.005118</td>\n",
              "    </tr>\n",
              "    <tr>\n",
              "      <th>25%</th>\n",
              "      <td>-0.752195</td>\n",
              "      <td>-0.614040</td>\n",
              "      <td>-0.156665</td>\n",
              "      <td>-0.332891</td>\n",
              "      <td>-0.281056</td>\n",
              "      <td>-0.288685</td>\n",
              "      <td>-0.269134</td>\n",
              "      <td>-0.270233</td>\n",
              "      <td>-1.013513e+00</td>\n",
              "      <td>-0.518776</td>\n",
              "      <td>-0.322521</td>\n",
              "      <td>-1.504998</td>\n",
              "      <td>-1.079555</td>\n",
              "      <td>-0.582184</td>\n",
              "      <td>-0.513498</td>\n",
              "      <td>-0.727150</td>\n",
              "      <td>-0.837427</td>\n",
              "      <td>-1.005118</td>\n",
              "    </tr>\n",
              "    <tr>\n",
              "      <th>50%</th>\n",
              "      <td>-0.752195</td>\n",
              "      <td>-0.129966</td>\n",
              "      <td>-0.156665</td>\n",
              "      <td>-0.332891</td>\n",
              "      <td>-0.281056</td>\n",
              "      <td>-0.288685</td>\n",
              "      <td>-0.269134</td>\n",
              "      <td>-0.270233</td>\n",
              "      <td>9.866669e-01</td>\n",
              "      <td>-0.518776</td>\n",
              "      <td>-0.322521</td>\n",
              "      <td>0.664453</td>\n",
              "      <td>0.926308</td>\n",
              "      <td>-0.582184</td>\n",
              "      <td>-0.513498</td>\n",
              "      <td>0.394898</td>\n",
              "      <td>-0.328988</td>\n",
              "      <td>0.106007</td>\n",
              "    </tr>\n",
              "    <tr>\n",
              "      <th>75%</th>\n",
              "      <td>1.329442</td>\n",
              "      <td>0.630721</td>\n",
              "      <td>-0.156665</td>\n",
              "      <td>-0.256323</td>\n",
              "      <td>-0.232874</td>\n",
              "      <td>-0.235999</td>\n",
              "      <td>-0.211782</td>\n",
              "      <td>-0.221304</td>\n",
              "      <td>9.866669e-01</td>\n",
              "      <td>-0.518776</td>\n",
              "      <td>-0.322521</td>\n",
              "      <td>0.664453</td>\n",
              "      <td>0.926308</td>\n",
              "      <td>1.206591</td>\n",
              "      <td>-0.513498</td>\n",
              "      <td>0.955922</td>\n",
              "      <td>0.748513</td>\n",
              "      <td>0.994908</td>\n",
              "    </tr>\n",
              "    <tr>\n",
              "      <th>max</th>\n",
              "      <td>1.329442</td>\n",
              "      <td>3.466011</td>\n",
              "      <td>6.383038</td>\n",
              "      <td>20.763035</td>\n",
              "      <td>18.108586</td>\n",
              "      <td>39.003179</td>\n",
              "      <td>19.502346</td>\n",
              "      <td>21.800998</td>\n",
              "      <td>9.866669e-01</td>\n",
              "      <td>1.927613</td>\n",
              "      <td>3.100576</td>\n",
              "      <td>0.664453</td>\n",
              "      <td>0.926308</td>\n",
              "      <td>1.717669</td>\n",
              "      <td>1.947428</td>\n",
              "      <td>1.516947</td>\n",
              "      <td>2.531962</td>\n",
              "      <td>0.994908</td>\n",
              "    </tr>\n",
              "  </tbody>\n",
              "</table>\n",
              "</div>\n",
              "      <button class=\"colab-df-convert\" onclick=\"convertToInteractive('df-cbe46fc3-b954-47d3-839b-3e04e5b6305c')\"\n",
              "              title=\"Convert this dataframe to an interactive table.\"\n",
              "              style=\"display:none;\">\n",
              "        \n",
              "  <svg xmlns=\"http://www.w3.org/2000/svg\" height=\"24px\"viewBox=\"0 0 24 24\"\n",
              "       width=\"24px\">\n",
              "    <path d=\"M0 0h24v24H0V0z\" fill=\"none\"/>\n",
              "    <path d=\"M18.56 5.44l.94 2.06.94-2.06 2.06-.94-2.06-.94-.94-2.06-.94 2.06-2.06.94zm-11 1L8.5 8.5l.94-2.06 2.06-.94-2.06-.94L8.5 2.5l-.94 2.06-2.06.94zm10 10l.94 2.06.94-2.06 2.06-.94-2.06-.94-.94-2.06-.94 2.06-2.06.94z\"/><path d=\"M17.41 7.96l-1.37-1.37c-.4-.4-.92-.59-1.43-.59-.52 0-1.04.2-1.43.59L10.3 9.45l-7.72 7.72c-.78.78-.78 2.05 0 2.83L4 21.41c.39.39.9.59 1.41.59.51 0 1.02-.2 1.41-.59l7.78-7.78 2.81-2.81c.8-.78.8-2.07 0-2.86zM5.41 20L4 18.59l7.72-7.72 1.47 1.35L5.41 20z\"/>\n",
              "  </svg>\n",
              "      </button>\n",
              "      \n",
              "  <style>\n",
              "    .colab-df-container {\n",
              "      display:flex;\n",
              "      flex-wrap:wrap;\n",
              "      gap: 12px;\n",
              "    }\n",
              "\n",
              "    .colab-df-convert {\n",
              "      background-color: #E8F0FE;\n",
              "      border: none;\n",
              "      border-radius: 50%;\n",
              "      cursor: pointer;\n",
              "      display: none;\n",
              "      fill: #1967D2;\n",
              "      height: 32px;\n",
              "      padding: 0 0 0 0;\n",
              "      width: 32px;\n",
              "    }\n",
              "\n",
              "    .colab-df-convert:hover {\n",
              "      background-color: #E2EBFA;\n",
              "      box-shadow: 0px 1px 2px rgba(60, 64, 67, 0.3), 0px 1px 3px 1px rgba(60, 64, 67, 0.15);\n",
              "      fill: #174EA6;\n",
              "    }\n",
              "\n",
              "    [theme=dark] .colab-df-convert {\n",
              "      background-color: #3B4455;\n",
              "      fill: #D2E3FC;\n",
              "    }\n",
              "\n",
              "    [theme=dark] .colab-df-convert:hover {\n",
              "      background-color: #434B5C;\n",
              "      box-shadow: 0px 1px 3px 1px rgba(0, 0, 0, 0.15);\n",
              "      filter: drop-shadow(0px 1px 2px rgba(0, 0, 0, 0.3));\n",
              "      fill: #FFFFFF;\n",
              "    }\n",
              "  </style>\n",
              "\n",
              "      <script>\n",
              "        const buttonEl =\n",
              "          document.querySelector('#df-cbe46fc3-b954-47d3-839b-3e04e5b6305c button.colab-df-convert');\n",
              "        buttonEl.style.display =\n",
              "          google.colab.kernel.accessAllowed ? 'block' : 'none';\n",
              "\n",
              "        async function convertToInteractive(key) {\n",
              "          const element = document.querySelector('#df-cbe46fc3-b954-47d3-839b-3e04e5b6305c');\n",
              "          const dataTable =\n",
              "            await google.colab.kernel.invokeFunction('convertToInteractive',\n",
              "                                                     [key], {});\n",
              "          if (!dataTable) return;\n",
              "\n",
              "          const docLinkHtml = 'Like what you see? Visit the ' +\n",
              "            '<a target=\"_blank\" href=https://colab.research.google.com/notebooks/data_table.ipynb>data table notebook</a>'\n",
              "            + ' to learn more about interactive tables.';\n",
              "          element.innerHTML = '';\n",
              "          dataTable['output_type'] = 'display_data';\n",
              "          await google.colab.output.renderOutput(dataTable, element);\n",
              "          const docLink = document.createElement('div');\n",
              "          docLink.innerHTML = docLinkHtml;\n",
              "          element.appendChild(docLink);\n",
              "        }\n",
              "      </script>\n",
              "    </div>\n",
              "  </div>\n",
              "  "
            ]
          },
          "metadata": {},
          "execution_count": 18
        }
      ]
    },
    {
      "cell_type": "code",
      "source": [
        "X_knn.isna().sum()"
      ],
      "metadata": {
        "colab": {
          "base_uri": "https://localhost:8080/"
        },
        "id": "mGNIo9-ComHN",
        "outputId": "c6b736f0-f31d-45a2-a449-1f83406b33db"
      },
      "execution_count": null,
      "outputs": [
        {
          "output_type": "execute_result",
          "data": {
            "text/plain": [
              "CryoSleep                    0\n",
              "Age                          0\n",
              "VIP                          0\n",
              "RoomService                  0\n",
              "FoodCourt                    0\n",
              "ShoppingMall                 0\n",
              "Spa                          0\n",
              "VRDeck                       0\n",
              "Transported                  0\n",
              "Destination_55 Cancri e      0\n",
              "Destination_PSO J318.5-22    0\n",
              "Destination_TRAPPIST-1e      0\n",
              "HomePlanet_Earth             0\n",
              "HomePlanet_Europa            0\n",
              "HomePlanet_Mars              0\n",
              "Cabin_Deck                   0\n",
              "Cabin_Num                    0\n",
              "Cabin_Side                   0\n",
              "dtype: int64"
            ]
          },
          "metadata": {},
          "execution_count": 19
        }
      ]
    },
    {
      "cell_type": "code",
      "source": [
        "#analizamos la correlacion entre las variables\n",
        "plt.figure(figsize=(16,10))\n",
        "sns.heatmap(X_knn.corr(),annot=True,fmt='.2g')\n",
        "plt.title('Correlacion entre variables', fontsize=14)"
      ],
      "metadata": {
        "colab": {
          "base_uri": "https://localhost:8080/",
          "height": 750
        },
        "id": "F7m37X3n5txK",
        "outputId": "4ddd71e8-a450-4b26-ae6b-99c7fcb96f65"
      },
      "execution_count": null,
      "outputs": [
        {
          "output_type": "execute_result",
          "data": {
            "text/plain": [
              "Text(0.5, 1.0, 'Correlacion entre variables')"
            ]
          },
          "metadata": {},
          "execution_count": 20
        },
        {
          "output_type": "display_data",
          "data": {
            "text/plain": [
              "<Figure size 1152x720 with 2 Axes>"
            ],
            "image/png": "[encoded data removed]"
          },
          "metadata": {
            "needs_background": "light"
          }
        }
      ]
    },
    {
      "cell_type": "markdown",
      "source": [
        " Con la caracteristica que más se correlaciona con nuestro target es CryoSleep, aunque es baja  al igual que el resto."
      ],
      "metadata": {
        "id": "kr2y3dSdjW-F"
      }
    },
    {
      "cell_type": "code",
      "source": [
        "X_knn.isna().sum()"
      ],
      "metadata": {
        "colab": {
          "base_uri": "https://localhost:8080/"
        },
        "id": "Q0PYbVk07PTi",
        "outputId": "076aea2a-72a6-47ed-c7ac-07665590f16c"
      },
      "execution_count": null,
      "outputs": [
        {
          "output_type": "execute_result",
          "data": {
            "text/plain": [
              "CryoSleep                    0\n",
              "Age                          0\n",
              "VIP                          0\n",
              "RoomService                  0\n",
              "FoodCourt                    0\n",
              "ShoppingMall                 0\n",
              "Spa                          0\n",
              "VRDeck                       0\n",
              "Transported                  0\n",
              "Destination_55 Cancri e      0\n",
              "Destination_PSO J318.5-22    0\n",
              "Destination_TRAPPIST-1e      0\n",
              "HomePlanet_Earth             0\n",
              "HomePlanet_Europa            0\n",
              "HomePlanet_Mars              0\n",
              "Cabin_Deck                   0\n",
              "Cabin_Num                    0\n",
              "Cabin_Side                   0\n",
              "dtype: int64"
            ]
          },
          "metadata": {},
          "execution_count": 21
        }
      ]
    },
    {
      "cell_type": "code",
      "source": [
        "# Elimino mi target del resto del dataset\n",
        "X_knn = X_knn.drop('Transported', axis=1)"
      ],
      "metadata": {
        "id": "naKRrJzmHHoG"
      },
      "execution_count": null,
      "outputs": []
    },
    {
      "cell_type": "code",
      "execution_count": null,
      "metadata": {
        "id": "eRWz0-XNcPxj"
      },
      "outputs": [],
      "source": [
        "# Dividimos los datos para el entrenamiento y test\n",
        "x_train, x_test, y_train, y_test = train_test_split(X_knn, y, train_size=0.8, random_state = 8)"
      ]
    },
    {
      "cell_type": "code",
      "source": [
        "x_train"
      ],
      "metadata": {
        "colab": {
          "base_uri": "https://localhost:8080/",
          "height": 505
        },
        "id": "XuO5hLx352ll",
        "outputId": "5598b606-a946-4962-df7d-f5dc88fabcd5"
      },
      "execution_count": null,
      "outputs": [
        {
          "output_type": "execute_result",
          "data": {
            "text/plain": [
              "      CryoSleep       Age       VIP  RoomService  FoodCourt  ShoppingMall  \\\n",
              "4320   1.329442  0.284954 -0.156665    -0.332891  -0.281056     -0.288685   \n",
              "1437   1.329442 -1.305574 -0.156665    -0.332891  -0.281056     -0.288685   \n",
              "1690  -0.752195  1.391409 -0.156665    -0.332891  -0.269953     -0.288685   \n",
              "3525  -0.752195 -0.268273 -0.156665     0.771454  -0.281056     -0.106376   \n",
              "4700  -0.752195 -0.683193 -0.156665    -0.332891   0.159363     -0.285340   \n",
              "...         ...       ...       ...          ...        ...           ...   \n",
              "2181  -0.752195  1.391409 -0.156665     0.189832  -0.004098     -0.275305   \n",
              "2409  -0.752195 -0.268273 -0.156665    -0.332891   2.563778     -0.288685   \n",
              "2033  -0.752195  0.699875 -0.156665    -0.332891  -0.281056     -0.288685   \n",
              "1364   1.329442  0.769028 -0.156665    -0.332891  -0.281056     -0.288685   \n",
              "4547  -0.752195  0.284954 -0.156665    -0.219512   1.187624     -0.288685   \n",
              "\n",
              "           Spa    VRDeck  Destination_55 Cancri e  Destination_PSO J318.5-22  \\\n",
              "4320 -0.269134 -0.270233                -0.518776                   3.100576   \n",
              "1437 -0.269134 -0.270233                -0.518776                  -0.322521   \n",
              "1690 -0.269134  0.357159                -0.518776                   3.100576   \n",
              "3525  0.055567 -0.270233                -0.518776                  -0.322521   \n",
              "4700 -0.269134 -0.270233                -0.518776                  -0.322521   \n",
              "...        ...       ...                      ...                        ...   \n",
              "2181 -0.269134 -0.270233                -0.518776                  -0.322521   \n",
              "2409  2.011715  1.484820                -0.518776                  -0.322521   \n",
              "2033  0.740263 -0.270233                -0.518776                   3.100576   \n",
              "1364 -0.269134 -0.270233                 1.927613                  -0.322521   \n",
              "4547  2.956702 -0.133048                 1.927613                  -0.322521   \n",
              "\n",
              "      Destination_TRAPPIST-1e  HomePlanet_Earth  HomePlanet_Europa  \\\n",
              "4320                -1.504998          0.926308          -0.582184   \n",
              "1437                 0.664453          0.926308          -0.582184   \n",
              "1690                -1.504998          0.926308          -0.582184   \n",
              "3525                 0.664453         -1.079555          -0.582184   \n",
              "4700                 0.664453          0.926308          -0.582184   \n",
              "...                       ...               ...                ...   \n",
              "2181                 0.664453          0.926308          -0.582184   \n",
              "2409                 0.664453         -1.079555           1.717669   \n",
              "2033                -1.504998          0.926308          -0.582184   \n",
              "1364                -1.504998         -1.079555           1.717669   \n",
              "4547                -1.504998         -1.079555           1.717669   \n",
              "\n",
              "      HomePlanet_Mars  Cabin_Deck  Cabin_Num  Cabin_Side  \n",
              "4320        -0.513498    0.955922   0.805224    0.994908  \n",
              "1437        -0.513498    0.955922   0.586855   -0.116218  \n",
              "1690        -0.513498    0.394898   2.084144    0.994908  \n",
              "3525         1.947428    0.394898   0.642914    0.994908  \n",
              "4700        -0.513498    0.644242   0.220084    0.328232  \n",
              "...               ...         ...        ...         ...  \n",
              "2181        -0.513498    0.955922   0.998822   -1.005118  \n",
              "2409        -0.513498   -1.288175  -0.739650   -1.005118  \n",
              "2033        -0.513498    0.394898   0.173585    0.994908  \n",
              "1364        -0.513498   -1.849199  -1.054492   -1.005118  \n",
              "4547        -0.513498   -1.849199  -1.056447    0.994908  \n",
              "\n",
              "[6258 rows x 17 columns]"
            ],
            "text/html": [
              "\n",
              "  <div id=\"df-a88631be-9e0f-4704-8764-159309c42623\">\n",
              "    <div class=\"colab-df-container\">\n",
              "      <div>\n",
              "<style scoped>\n",
              "    .dataframe tbody tr th:only-of-type {\n",
              "        vertical-align: middle;\n",
              "    }\n",
              "\n",
              "    .dataframe tbody tr th {\n",
              "        vertical-align: top;\n",
              "    }\n",
              "\n",
              "    .dataframe thead th {\n",
              "        text-align: right;\n",
              "    }\n",
              "</style>\n",
              "<table border=\"1\" class=\"dataframe\">\n",
              "  <thead>\n",
              "    <tr style=\"text-align: right;\">\n",
              "      <th></th>\n",
              "      <th>CryoSleep</th>\n",
              "      <th>Age</th>\n",
              "      <th>VIP</th>\n",
              "      <th>RoomService</th>\n",
              "      <th>FoodCourt</th>\n",
              "      <th>ShoppingMall</th>\n",
              "      <th>Spa</th>\n",
              "      <th>VRDeck</th>\n",
              "      <th>Destination_55 Cancri e</th>\n",
              "      <th>Destination_PSO J318.5-22</th>\n",
              "      <th>Destination_TRAPPIST-1e</th>\n",
              "      <th>HomePlanet_Earth</th>\n",
              "      <th>HomePlanet_Europa</th>\n",
              "      <th>HomePlanet_Mars</th>\n",
              "      <th>Cabin_Deck</th>\n",
              "      <th>Cabin_Num</th>\n",
              "      <th>Cabin_Side</th>\n",
              "    </tr>\n",
              "  </thead>\n",
              "  <tbody>\n",
              "    <tr>\n",
              "      <th>4320</th>\n",
              "      <td>1.329442</td>\n",
              "      <td>0.284954</td>\n",
              "      <td>-0.156665</td>\n",
              "      <td>-0.332891</td>\n",
              "      <td>-0.281056</td>\n",
              "      <td>-0.288685</td>\n",
              "      <td>-0.269134</td>\n",
              "      <td>-0.270233</td>\n",
              "      <td>-0.518776</td>\n",
              "      <td>3.100576</td>\n",
              "      <td>-1.504998</td>\n",
              "      <td>0.926308</td>\n",
              "      <td>-0.582184</td>\n",
              "      <td>-0.513498</td>\n",
              "      <td>0.955922</td>\n",
              "      <td>0.805224</td>\n",
              "      <td>0.994908</td>\n",
              "    </tr>\n",
              "    <tr>\n",
              "      <th>1437</th>\n",
              "      <td>1.329442</td>\n",
              "      <td>-1.305574</td>\n",
              "      <td>-0.156665</td>\n",
              "      <td>-0.332891</td>\n",
              "      <td>-0.281056</td>\n",
              "      <td>-0.288685</td>\n",
              "      <td>-0.269134</td>\n",
              "      <td>-0.270233</td>\n",
              "      <td>-0.518776</td>\n",
              "      <td>-0.322521</td>\n",
              "      <td>0.664453</td>\n",
              "      <td>0.926308</td>\n",
              "      <td>-0.582184</td>\n",
              "      <td>-0.513498</td>\n",
              "      <td>0.955922</td>\n",
              "      <td>0.586855</td>\n",
              "      <td>-0.116218</td>\n",
              "    </tr>\n",
              "    <tr>\n",
              "      <th>1690</th>\n",
              "      <td>-0.752195</td>\n",
              "      <td>1.391409</td>\n",
              "      <td>-0.156665</td>\n",
              "      <td>-0.332891</td>\n",
              "      <td>-0.269953</td>\n",
              "      <td>-0.288685</td>\n",
              "      <td>-0.269134</td>\n",
              "      <td>0.357159</td>\n",
              "      <td>-0.518776</td>\n",
              "      <td>3.100576</td>\n",
              "      <td>-1.504998</td>\n",
              "      <td>0.926308</td>\n",
              "      <td>-0.582184</td>\n",
              "      <td>-0.513498</td>\n",
              "      <td>0.394898</td>\n",
              "      <td>2.084144</td>\n",
              "      <td>0.994908</td>\n",
              "    </tr>\n",
              "    <tr>\n",
              "      <th>3525</th>\n",
              "      <td>-0.752195</td>\n",
              "      <td>-0.268273</td>\n",
              "      <td>-0.156665</td>\n",
              "      <td>0.771454</td>\n",
              "      <td>-0.281056</td>\n",
              "      <td>-0.106376</td>\n",
              "      <td>0.055567</td>\n",
              "      <td>-0.270233</td>\n",
              "      <td>-0.518776</td>\n",
              "      <td>-0.322521</td>\n",
              "      <td>0.664453</td>\n",
              "      <td>-1.079555</td>\n",
              "      <td>-0.582184</td>\n",
              "      <td>1.947428</td>\n",
              "      <td>0.394898</td>\n",
              "      <td>0.642914</td>\n",
              "      <td>0.994908</td>\n",
              "    </tr>\n",
              "    <tr>\n",
              "      <th>4700</th>\n",
              "      <td>-0.752195</td>\n",
              "      <td>-0.683193</td>\n",
              "      <td>-0.156665</td>\n",
              "      <td>-0.332891</td>\n",
              "      <td>0.159363</td>\n",
              "      <td>-0.285340</td>\n",
              "      <td>-0.269134</td>\n",
              "      <td>-0.270233</td>\n",
              "      <td>-0.518776</td>\n",
              "      <td>-0.322521</td>\n",
              "      <td>0.664453</td>\n",
              "      <td>0.926308</td>\n",
              "      <td>-0.582184</td>\n",
              "      <td>-0.513498</td>\n",
              "      <td>0.644242</td>\n",
              "      <td>0.220084</td>\n",
              "      <td>0.328232</td>\n",
              "    </tr>\n",
              "    <tr>\n",
              "      <th>...</th>\n",
              "      <td>...</td>\n",
              "      <td>...</td>\n",
              "      <td>...</td>\n",
              "      <td>...</td>\n",
              "      <td>...</td>\n",
              "      <td>...</td>\n",
              "      <td>...</td>\n",
              "      <td>...</td>\n",
              "      <td>...</td>\n",
              "      <td>...</td>\n",
              "      <td>...</td>\n",
              "      <td>...</td>\n",
              "      <td>...</td>\n",
              "      <td>...</td>\n",
              "      <td>...</td>\n",
              "      <td>...</td>\n",
              "      <td>...</td>\n",
              "    </tr>\n",
              "    <tr>\n",
              "      <th>2181</th>\n",
              "      <td>-0.752195</td>\n",
              "      <td>1.391409</td>\n",
              "      <td>-0.156665</td>\n",
              "      <td>0.189832</td>\n",
              "      <td>-0.004098</td>\n",
              "      <td>-0.275305</td>\n",
              "      <td>-0.269134</td>\n",
              "      <td>-0.270233</td>\n",
              "      <td>-0.518776</td>\n",
              "      <td>-0.322521</td>\n",
              "      <td>0.664453</td>\n",
              "      <td>0.926308</td>\n",
              "      <td>-0.582184</td>\n",
              "      <td>-0.513498</td>\n",
              "      <td>0.955922</td>\n",
              "      <td>0.998822</td>\n",
              "      <td>-1.005118</td>\n",
              "    </tr>\n",
              "    <tr>\n",
              "      <th>2409</th>\n",
              "      <td>-0.752195</td>\n",
              "      <td>-0.268273</td>\n",
              "      <td>-0.156665</td>\n",
              "      <td>-0.332891</td>\n",
              "      <td>2.563778</td>\n",
              "      <td>-0.288685</td>\n",
              "      <td>2.011715</td>\n",
              "      <td>1.484820</td>\n",
              "      <td>-0.518776</td>\n",
              "      <td>-0.322521</td>\n",
              "      <td>0.664453</td>\n",
              "      <td>-1.079555</td>\n",
              "      <td>1.717669</td>\n",
              "      <td>-0.513498</td>\n",
              "      <td>-1.288175</td>\n",
              "      <td>-0.739650</td>\n",
              "      <td>-1.005118</td>\n",
              "    </tr>\n",
              "    <tr>\n",
              "      <th>2033</th>\n",
              "      <td>-0.752195</td>\n",
              "      <td>0.699875</td>\n",
              "      <td>-0.156665</td>\n",
              "      <td>-0.332891</td>\n",
              "      <td>-0.281056</td>\n",
              "      <td>-0.288685</td>\n",
              "      <td>0.740263</td>\n",
              "      <td>-0.270233</td>\n",
              "      <td>-0.518776</td>\n",
              "      <td>3.100576</td>\n",
              "      <td>-1.504998</td>\n",
              "      <td>0.926308</td>\n",
              "      <td>-0.582184</td>\n",
              "      <td>-0.513498</td>\n",
              "      <td>0.394898</td>\n",
              "      <td>0.173585</td>\n",
              "      <td>0.994908</td>\n",
              "    </tr>\n",
              "    <tr>\n",
              "      <th>1364</th>\n",
              "      <td>1.329442</td>\n",
              "      <td>0.769028</td>\n",
              "      <td>-0.156665</td>\n",
              "      <td>-0.332891</td>\n",
              "      <td>-0.281056</td>\n",
              "      <td>-0.288685</td>\n",
              "      <td>-0.269134</td>\n",
              "      <td>-0.270233</td>\n",
              "      <td>1.927613</td>\n",
              "      <td>-0.322521</td>\n",
              "      <td>-1.504998</td>\n",
              "      <td>-1.079555</td>\n",
              "      <td>1.717669</td>\n",
              "      <td>-0.513498</td>\n",
              "      <td>-1.849199</td>\n",
              "      <td>-1.054492</td>\n",
              "      <td>-1.005118</td>\n",
              "    </tr>\n",
              "    <tr>\n",
              "      <th>4547</th>\n",
              "      <td>-0.752195</td>\n",
              "      <td>0.284954</td>\n",
              "      <td>-0.156665</td>\n",
              "      <td>-0.219512</td>\n",
              "      <td>1.187624</td>\n",
              "      <td>-0.288685</td>\n",
              "      <td>2.956702</td>\n",
              "      <td>-0.133048</td>\n",
              "      <td>1.927613</td>\n",
              "      <td>-0.322521</td>\n",
              "      <td>-1.504998</td>\n",
              "      <td>-1.079555</td>\n",
              "      <td>1.717669</td>\n",
              "      <td>-0.513498</td>\n",
              "      <td>-1.849199</td>\n",
              "      <td>-1.056447</td>\n",
              "      <td>0.994908</td>\n",
              "    </tr>\n",
              "  </tbody>\n",
              "</table>\n",
              "<p>6258 rows × 17 columns</p>\n",
              "</div>\n",
              "      <button class=\"colab-df-convert\" onclick=\"convertToInteractive('df-a88631be-9e0f-4704-8764-159309c42623')\"\n",
              "              title=\"Convert this dataframe to an interactive table.\"\n",
              "              style=\"display:none;\">\n",
              "        \n",
              "  <svg xmlns=\"http://www.w3.org/2000/svg\" height=\"24px\"viewBox=\"0 0 24 24\"\n",
              "       width=\"24px\">\n",
              "    <path d=\"M0 0h24v24H0V0z\" fill=\"none\"/>\n",
              "    <path d=\"M18.56 5.44l.94 2.06.94-2.06 2.06-.94-2.06-.94-.94-2.06-.94 2.06-2.06.94zm-11 1L8.5 8.5l.94-2.06 2.06-.94-2.06-.94L8.5 2.5l-.94 2.06-2.06.94zm10 10l.94 2.06.94-2.06 2.06-.94-2.06-.94-.94-2.06-.94 2.06-2.06.94z\"/><path d=\"M17.41 7.96l-1.37-1.37c-.4-.4-.92-.59-1.43-.59-.52 0-1.04.2-1.43.59L10.3 9.45l-7.72 7.72c-.78.78-.78 2.05 0 2.83L4 21.41c.39.39.9.59 1.41.59.51 0 1.02-.2 1.41-.59l7.78-7.78 2.81-2.81c.8-.78.8-2.07 0-2.86zM5.41 20L4 18.59l7.72-7.72 1.47 1.35L5.41 20z\"/>\n",
              "  </svg>\n",
              "      </button>\n",
              "      \n",
              "  <style>\n",
              "    .colab-df-container {\n",
              "      display:flex;\n",
              "      flex-wrap:wrap;\n",
              "      gap: 12px;\n",
              "    }\n",
              "\n",
              "    .colab-df-convert {\n",
              "      background-color: #E8F0FE;\n",
              "      border: none;\n",
              "      border-radius: 50%;\n",
              "      cursor: pointer;\n",
              "      display: none;\n",
              "      fill: #1967D2;\n",
              "      height: 32px;\n",
              "      padding: 0 0 0 0;\n",
              "      width: 32px;\n",
              "    }\n",
              "\n",
              "    .colab-df-convert:hover {\n",
              "      background-color: #E2EBFA;\n",
              "      box-shadow: 0px 1px 2px rgba(60, 64, 67, 0.3), 0px 1px 3px 1px rgba(60, 64, 67, 0.15);\n",
              "      fill: #174EA6;\n",
              "    }\n",
              "\n",
              "    [theme=dark] .colab-df-convert {\n",
              "      background-color: #3B4455;\n",
              "      fill: #D2E3FC;\n",
              "    }\n",
              "\n",
              "    [theme=dark] .colab-df-convert:hover {\n",
              "      background-color: #434B5C;\n",
              "      box-shadow: 0px 1px 3px 1px rgba(0, 0, 0, 0.15);\n",
              "      filter: drop-shadow(0px 1px 2px rgba(0, 0, 0, 0.3));\n",
              "      fill: #FFFFFF;\n",
              "    }\n",
              "  </style>\n",
              "\n",
              "      <script>\n",
              "        const buttonEl =\n",
              "          document.querySelector('#df-a88631be-9e0f-4704-8764-159309c42623 button.colab-df-convert');\n",
              "        buttonEl.style.display =\n",
              "          google.colab.kernel.accessAllowed ? 'block' : 'none';\n",
              "\n",
              "        async function convertToInteractive(key) {\n",
              "          const element = document.querySelector('#df-a88631be-9e0f-4704-8764-159309c42623');\n",
              "          const dataTable =\n",
              "            await google.colab.kernel.invokeFunction('convertToInteractive',\n",
              "                                                     [key], {});\n",
              "          if (!dataTable) return;\n",
              "\n",
              "          const docLinkHtml = 'Like what you see? Visit the ' +\n",
              "            '<a target=\"_blank\" href=https://colab.research.google.com/notebooks/data_table.ipynb>data table notebook</a>'\n",
              "            + ' to learn more about interactive tables.';\n",
              "          element.innerHTML = '';\n",
              "          dataTable['output_type'] = 'display_data';\n",
              "          await google.colab.output.renderOutput(dataTable, element);\n",
              "          const docLink = document.createElement('div');\n",
              "          docLink.innerHTML = docLinkHtml;\n",
              "          element.appendChild(docLink);\n",
              "        }\n",
              "      </script>\n",
              "    </div>\n",
              "  </div>\n",
              "  "
            ]
          },
          "metadata": {},
          "execution_count": 24
        }
      ]
    },
    {
      "cell_type": "markdown",
      "source": [
        "#### Prueba con varios modelos de aprendisaje supervisado"
      ],
      "metadata": {
        "id": "ZFPLrj9-fJ_r"
      }
    },
    {
      "cell_type": "code",
      "source": [
        "from sklearn.model_selection import cross_val_score, cross_validate, KFold, StratifiedKFold, LeaveOneOut, LeavePOut\n",
        "from sklearn.metrics import recall_score, accuracy_score, precision_score, f1_score, roc_auc_score, mean_squared_error, r2_score, confusion_matrix, classification_report, ConfusionMatrixDisplay\n",
        "\n",
        "from sklearn.tree import DecisionTreeClassifier\n",
        "from sklearn.ensemble import RandomForestClassifier\n",
        "from sklearn.linear_model import LogisticRegression\n",
        "from sklearn.neural_network import MLPClassifier\n",
        "from xgboost import XGBClassifier\n",
        "from sklearn.naive_bayes import GaussianNB\n",
        "from sklearn.svm import LinearSVC\n",
        "\n",
        "\n",
        "clfs =  [DecisionTreeClassifier(),\n",
        "        RandomForestClassifier(),\n",
        "        LogisticRegression(),\n",
        "        MLPClassifier(),\n",
        "        XGBClassifier(),\n",
        "        GaussianNB(),\n",
        "        LinearSVC()]\n",
        "\n",
        "names = ['Arbol de decisión',\n",
        "        'Random Forest', \n",
        "        'Regresión Logística',\n",
        "        'Perceptrón multicapa',\n",
        "        'XGBoost',\n",
        "        'Naive Bayes',\n",
        "        'SVM']\n",
        "\n",
        "trained_models = []\n",
        "accuracy_models = []\n",
        "for clf, name in zip(clfs, names):\n",
        "    print(name)\n",
        "    clf.fit(x_train, y_train)\n",
        "    train_predictions = clf.predict(x_train)\n",
        "    accuracy = accuracy_score(y_train, train_predictions)\n",
        "    print(f\"Accuracy train {name}: %.2f%%\" % (accuracy * 100.0))\n",
        "\n",
        "    test_predictions = clf.predict(x_test)\n",
        "    accuracy = accuracy_score(y_test, test_predictions)\n",
        "    print(f\"Accuracy test {name}: %.2f%%\" % (accuracy * 100.0))\n",
        "    trained_models.append(clf)    \n",
        "    accuracy_models.append(accuracy)"
      ],
      "metadata": {
        "colab": {
          "base_uri": "https://localhost:8080/"
        },
        "id": "Xrm509VyOGhE",
        "outputId": "fa797355-e532-4090-d291-3c107a0f3cf2"
      },
      "execution_count": null,
      "outputs": [
        {
          "output_type": "stream",
          "name": "stdout",
          "text": [
            "Arbol de decisión\n",
            "Accuracy train Arbol de decisión: 99.98%\n",
            "Accuracy test Arbol de decisión: 74.76%\n",
            "Random Forest\n",
            "Accuracy train Random Forest: 99.97%\n",
            "Accuracy test Random Forest: 81.53%\n",
            "Regresión Logística\n",
            "Accuracy train Regresión Logística: 79.90%\n",
            "Accuracy test Regresión Logística: 79.74%\n",
            "Perceptrón multicapa\n"
          ]
        },
        {
          "output_type": "stream",
          "name": "stderr",
          "text": [
            "/usr/local/lib/python3.7/dist-packages/sklearn/neural_network/_multilayer_perceptron.py:696: ConvergenceWarning: Stochastic Optimizer: Maximum iterations (200) reached and the optimization hasn't converged yet.\n",
            "  ConvergenceWarning,\n"
          ]
        },
        {
          "output_type": "stream",
          "name": "stdout",
          "text": [
            "Accuracy train Perceptrón multicapa: 83.49%\n",
            "Accuracy test Perceptrón multicapa: 82.04%\n",
            "XGBoost\n",
            "Accuracy train XGBoost: 82.84%\n",
            "Accuracy test XGBoost: 82.17%\n",
            "Naive Bayes\n",
            "Accuracy train Naive Bayes: 73.55%\n",
            "Accuracy test Naive Bayes: 73.35%\n",
            "SVM\n",
            "Accuracy train SVM: 79.47%\n",
            "Accuracy test SVM: 79.62%\n"
          ]
        },
        {
          "output_type": "stream",
          "name": "stderr",
          "text": [
            "/usr/local/lib/python3.7/dist-packages/sklearn/svm/_base.py:1208: ConvergenceWarning: Liblinear failed to converge, increase the number of iterations.\n",
            "  ConvergenceWarning,\n"
          ]
        }
      ]
    },
    {
      "cell_type": "markdown",
      "source": [
        "#### Regresion Logistica"
      ],
      "metadata": {
        "id": "Np0q1ukU7Du1"
      }
    },
    {
      "cell_type": "code",
      "source": [
        "param_grid_re = [{\n",
        "    'penalty' : ['l1', 'l2'],\n",
        "    'solver' : ['newton-cg', 'lbfgs', 'liblinear', 'sag', 'saga'], \n",
        "    'C': [0.6 ,0.7, 0.8, 0.9, 0.5, 1],\n",
        "    'random_state' : [43],\n",
        "    'max_iter' : [100, 200, 1000],\n",
        "    'l1_ratio' : [0, 0.2, 0.4, 0.6, 0.8, 1]\n",
        "}]"
      ],
      "metadata": {
        "id": "HrzWrj8__Pma"
      },
      "execution_count": null,
      "outputs": []
    },
    {
      "cell_type": "code",
      "source": [
        "# Regresión Logística\n",
        "\n",
        "clf_re = LogisticRegression()\n",
        "cv_re = GridSearchCV(clf_re, param_grid_re, scoring='accuracy') \n",
        "cv_re.fit(x_train, y_train);"
      ],
      "metadata": {
        "id": "RnYJ_Uz7ucJU",
        "colab": {
          "base_uri": "https://localhost:8080/",
          "height": 1000
        },
        "outputId": "0e145505-ea9b-4efb-b265-be0af92ab632"
      },
      "execution_count": null,
      "outputs": [
        {
          "output_type": "stream",
          "name": "stderr",
          "text": [
            "/usr/local/lib/python3.7/dist-packages/sklearn/linear_model/_logistic.py:1479: UserWarning: l1_ratio parameter is only used when penalty is 'elasticnet'. Got (penalty=l1)\n",
            "  \"(penalty={})\".format(self.penalty)\n",
            "/usr/local/lib/python3.7/dist-packages/sklearn/linear_model/_logistic.py:1479: UserWarning: l1_ratio parameter is only used when penalty is 'elasticnet'. Got (penalty=l1)\n",
            "  \"(penalty={})\".format(self.penalty)\n",
            "/usr/local/lib/python3.7/dist-packages/sklearn/linear_model/_logistic.py:1479: UserWarning: l1_ratio parameter is only used when penalty is 'elasticnet'. Got (penalty=l1)\n",
            "  \"(penalty={})\".format(self.penalty)\n",
            "/usr/local/lib/python3.7/dist-packages/sklearn/linear_model/_logistic.py:1479: UserWarning: l1_ratio parameter is only used when penalty is 'elasticnet'. Got (penalty=l1)\n",
            "  \"(penalty={})\".format(self.penalty)\n",
            "/usr/local/lib/python3.7/dist-packages/sklearn/linear_model/_logistic.py:1479: UserWarning: l1_ratio parameter is only used when penalty is 'elasticnet'. Got (penalty=l1)\n",
            "  \"(penalty={})\".format(self.penalty)\n",
            "/usr/local/lib/python3.7/dist-packages/sklearn/linear_model/_logistic.py:1479: UserWarning: l1_ratio parameter is only used when penalty is 'elasticnet'. Got (penalty=l1)\n",
            "  \"(penalty={})\".format(self.penalty)\n",
            "/usr/local/lib/python3.7/dist-packages/sklearn/linear_model/_sag.py:354: ConvergenceWarning: The max_iter was reached which means the coef_ did not converge\n",
            "  ConvergenceWarning,\n",
            "/usr/local/lib/python3.7/dist-packages/sklearn/linear_model/_logistic.py:1479: UserWarning: l1_ratio parameter is only used when penalty is 'elasticnet'. Got (penalty=l1)\n",
            "  \"(penalty={})\".format(self.penalty)\n",
            "/usr/local/lib/python3.7/dist-packages/sklearn/linear_model/_sag.py:354: ConvergenceWarning: The max_iter was reached which means the coef_ did not converge\n",
            "  ConvergenceWarning,\n",
            "/usr/local/lib/python3.7/dist-packages/sklearn/linear_model/_logistic.py:1479: UserWarning: l1_ratio parameter is only used when penalty is 'elasticnet'. Got (penalty=l1)\n",
            "  \"(penalty={})\".format(self.penalty)\n",
            "/usr/local/lib/python3.7/dist-packages/sklearn/linear_model/_logistic.py:1479: UserWarning: l1_ratio parameter is only used when penalty is 'elasticnet'. Got (penalty=l1)\n",
            "  \"(penalty={})\".format(self.penalty)\n",
            "/usr/local/lib/python3.7/dist-packages/sklearn/linear_model/_sag.py:354: ConvergenceWarning: The max_iter was reached which means the coef_ did not converge\n",
            "  ConvergenceWarning,\n",
            "/usr/local/lib/python3.7/dist-packages/sklearn/linear_model/_logistic.py:1479: UserWarning: l1_ratio parameter is only used when penalty is 'elasticnet'. Got (penalty=l1)\n",
            "  \"(penalty={})\".format(self.penalty)\n",
            "/usr/local/lib/python3.7/dist-packages/sklearn/linear_model/_sag.py:354: ConvergenceWarning: The max_iter was reached which means the coef_ did not converge\n",
            "  ConvergenceWarning,\n",
            "/usr/local/lib/python3.7/dist-packages/sklearn/linear_model/_logistic.py:1479: UserWarning: l1_ratio parameter is only used when penalty is 'elasticnet'. Got (penalty=l2)\n",
            "  \"(penalty={})\".format(self.penalty)\n",
            "/usr/local/lib/python3.7/dist-packages/sklearn/linear_model/_logistic.py:1479: UserWarning: l1_ratio parameter is only used when penalty is 'elasticnet'. Got (penalty=l2)\n",
            "  \"(penalty={})\".format(self.penalty)\n",
            "/usr/local/lib/python3.7/dist-packages/sklearn/linear_model/_logistic.py:1479: UserWarning: l1_ratio parameter is only used when penalty is 'elasticnet'. Got (penalty=l2)\n",
            "  \"(penalty={})\".format(self.penalty)\n",
            "/usr/local/lib/python3.7/dist-packages/sklearn/linear_model/_logistic.py:1479: UserWarning: l1_ratio parameter is only used when penalty is 'elasticnet'. Got (penalty=l2)\n",
            "  \"(penalty={})\".format(self.penalty)\n",
            "/usr/local/lib/python3.7/dist-packages/sklearn/linear_model/_logistic.py:1479: UserWarning: l1_ratio parameter is only used when penalty is 'elasticnet'. Got (penalty=l2)\n",
            "  \"(penalty={})\".format(self.penalty)\n",
            "/usr/local/lib/python3.7/dist-packages/sklearn/linear_model/_logistic.py:1479: UserWarning: l1_ratio parameter is only used when penalty is 'elasticnet'. Got (penalty=l2)\n",
            "  \"(penalty={})\".format(self.penalty)\n",
            "/usr/local/lib/python3.7/dist-packages/sklearn/linear_model/_logistic.py:1479: UserWarning: l1_ratio parameter is only used when penalty is 'elasticnet'. Got (penalty=l2)\n",
            "  \"(penalty={})\".format(self.penalty)\n",
            "/usr/local/lib/python3.7/dist-packages/sklearn/linear_model/_logistic.py:1479: UserWarning: l1_ratio parameter is only used when penalty is 'elasticnet'. Got (penalty=l2)\n",
            "  \"(penalty={})\".format(self.penalty)\n",
            "/usr/local/lib/python3.7/dist-packages/sklearn/linear_model/_logistic.py:1479: UserWarning: l1_ratio parameter is only used when penalty is 'elasticnet'. Got (penalty=l2)\n",
            "  \"(penalty={})\".format(self.penalty)\n",
            "/usr/local/lib/python3.7/dist-packages/sklearn/linear_model/_logistic.py:1479: UserWarning: l1_ratio parameter is only used when penalty is 'elasticnet'. Got (penalty=l2)\n",
            "  \"(penalty={})\".format(self.penalty)\n",
            "/usr/local/lib/python3.7/dist-packages/sklearn/linear_model/_logistic.py:1479: UserWarning: l1_ratio parameter is only used when penalty is 'elasticnet'. Got (penalty=l2)\n",
            "  \"(penalty={})\".format(self.penalty)\n",
            "/usr/local/lib/python3.7/dist-packages/sklearn/linear_model/_logistic.py:1479: UserWarning: l1_ratio parameter is only used when penalty is 'elasticnet'. Got (penalty=l2)\n",
            "  \"(penalty={})\".format(self.penalty)\n",
            "/usr/local/lib/python3.7/dist-packages/sklearn/linear_model/_logistic.py:1479: UserWarning: l1_ratio parameter is only used when penalty is 'elasticnet'. Got (penalty=l2)\n",
            "  \"(penalty={})\".format(self.penalty)\n",
            "/usr/local/lib/python3.7/dist-packages/sklearn/linear_model/_logistic.py:1479: UserWarning: l1_ratio parameter is only used when penalty is 'elasticnet'. Got (penalty=l2)\n",
            "  \"(penalty={})\".format(self.penalty)\n",
            "/usr/local/lib/python3.7/dist-packages/sklearn/linear_model/_logistic.py:1479: UserWarning: l1_ratio parameter is only used when penalty is 'elasticnet'. Got (penalty=l2)\n",
            "  \"(penalty={})\".format(self.penalty)\n",
            "/usr/local/lib/python3.7/dist-packages/sklearn/linear_model/_logistic.py:1479: UserWarning: l1_ratio parameter is only used when penalty is 'elasticnet'. Got (penalty=l2)\n",
            "  \"(penalty={})\".format(self.penalty)\n",
            "/usr/local/lib/python3.7/dist-packages/sklearn/linear_model/_logistic.py:1479: UserWarning: l1_ratio parameter is only used when penalty is 'elasticnet'. Got (penalty=l2)\n",
            "  \"(penalty={})\".format(self.penalty)\n",
            "/usr/local/lib/python3.7/dist-packages/sklearn/linear_model/_logistic.py:1479: UserWarning: l1_ratio parameter is only used when penalty is 'elasticnet'. Got (penalty=l2)\n",
            "  \"(penalty={})\".format(self.penalty)\n",
            "/usr/local/lib/python3.7/dist-packages/sklearn/linear_model/_logistic.py:1479: UserWarning: l1_ratio parameter is only used when penalty is 'elasticnet'. Got (penalty=l2)\n",
            "  \"(penalty={})\".format(self.penalty)\n",
            "/usr/local/lib/python3.7/dist-packages/sklearn/linear_model/_logistic.py:1479: UserWarning: l1_ratio parameter is only used when penalty is 'elasticnet'. Got (penalty=l2)\n",
            "  \"(penalty={})\".format(self.penalty)\n",
            "/usr/local/lib/python3.7/dist-packages/sklearn/linear_model/_logistic.py:1479: UserWarning: l1_ratio parameter is only used when penalty is 'elasticnet'. Got (penalty=l2)\n",
            "  \"(penalty={})\".format(self.penalty)\n",
            "/usr/local/lib/python3.7/dist-packages/sklearn/linear_model/_sag.py:354: ConvergenceWarning: The max_iter was reached which means the coef_ did not converge\n",
            "  ConvergenceWarning,\n",
            "/usr/local/lib/python3.7/dist-packages/sklearn/linear_model/_logistic.py:1479: UserWarning: l1_ratio parameter is only used when penalty is 'elasticnet'. Got (penalty=l2)\n",
            "  \"(penalty={})\".format(self.penalty)\n",
            "/usr/local/lib/python3.7/dist-packages/sklearn/linear_model/_sag.py:354: ConvergenceWarning: The max_iter was reached which means the coef_ did not converge\n",
            "  ConvergenceWarning,\n",
            "/usr/local/lib/python3.7/dist-packages/sklearn/linear_model/_logistic.py:1479: UserWarning: l1_ratio parameter is only used when penalty is 'elasticnet'. Got (penalty=l2)\n",
            "  \"(penalty={})\".format(self.penalty)\n",
            "/usr/local/lib/python3.7/dist-packages/sklearn/linear_model/_logistic.py:1479: UserWarning: l1_ratio parameter is only used when penalty is 'elasticnet'. Got (penalty=l2)\n",
            "  \"(penalty={})\".format(self.penalty)\n",
            "/usr/local/lib/python3.7/dist-packages/sklearn/linear_model/_sag.py:354: ConvergenceWarning: The max_iter was reached which means the coef_ did not converge\n",
            "  ConvergenceWarning,\n",
            "/usr/local/lib/python3.7/dist-packages/sklearn/linear_model/_logistic.py:1479: UserWarning: l1_ratio parameter is only used when penalty is 'elasticnet'. Got (penalty=l2)\n",
            "  \"(penalty={})\".format(self.penalty)\n",
            "/usr/local/lib/python3.7/dist-packages/sklearn/linear_model/_sag.py:354: ConvergenceWarning: The max_iter was reached which means the coef_ did not converge\n",
            "  ConvergenceWarning,\n",
            "/usr/local/lib/python3.7/dist-packages/sklearn/linear_model/_logistic.py:1479: UserWarning: l1_ratio parameter is only used when penalty is 'elasticnet'. Got (penalty=l1)\n",
            "  \"(penalty={})\".format(self.penalty)\n",
            "/usr/local/lib/python3.7/dist-packages/sklearn/linear_model/_logistic.py:1479: UserWarning: l1_ratio parameter is only used when penalty is 'elasticnet'. Got (penalty=l1)\n",
            "  \"(penalty={})\".format(self.penalty)\n",
            "/usr/local/lib/python3.7/dist-packages/sklearn/linear_model/_logistic.py:1479: UserWarning: l1_ratio parameter is only used when penalty is 'elasticnet'. Got (penalty=l1)\n",
            "  \"(penalty={})\".format(self.penalty)\n",
            "/usr/local/lib/python3.7/dist-packages/sklearn/linear_model/_logistic.py:1479: UserWarning: l1_ratio parameter is only used when penalty is 'elasticnet'. Got (penalty=l1)\n",
            "  \"(penalty={})\".format(self.penalty)\n",
            "/usr/local/lib/python3.7/dist-packages/sklearn/linear_model/_logistic.py:1479: UserWarning: l1_ratio parameter is only used when penalty is 'elasticnet'. Got (penalty=l1)\n",
            "  \"(penalty={})\".format(self.penalty)\n",
            "/usr/local/lib/python3.7/dist-packages/sklearn/linear_model/_logistic.py:1479: UserWarning: l1_ratio parameter is only used when penalty is 'elasticnet'. Got (penalty=l1)\n",
            "  \"(penalty={})\".format(self.penalty)\n",
            "/usr/local/lib/python3.7/dist-packages/sklearn/linear_model/_logistic.py:1479: UserWarning: l1_ratio parameter is only used when penalty is 'elasticnet'. Got (penalty=l1)\n",
            "  \"(penalty={})\".format(self.penalty)\n",
            "/usr/local/lib/python3.7/dist-packages/sklearn/linear_model/_logistic.py:1479: UserWarning: l1_ratio parameter is only used when penalty is 'elasticnet'. Got (penalty=l1)\n",
            "  \"(penalty={})\".format(self.penalty)\n",
            "/usr/local/lib/python3.7/dist-packages/sklearn/linear_model/_logistic.py:1479: UserWarning: l1_ratio parameter is only used when penalty is 'elasticnet'. Got (penalty=l1)\n",
            "  \"(penalty={})\".format(self.penalty)\n",
            "/usr/local/lib/python3.7/dist-packages/sklearn/linear_model/_logistic.py:1479: UserWarning: l1_ratio parameter is only used when penalty is 'elasticnet'. Got (penalty=l1)\n",
            "  \"(penalty={})\".format(self.penalty)\n",
            "/usr/local/lib/python3.7/dist-packages/sklearn/linear_model/_logistic.py:1479: UserWarning: l1_ratio parameter is only used when penalty is 'elasticnet'. Got (penalty=l2)\n",
            "  \"(penalty={})\".format(self.penalty)\n",
            "/usr/local/lib/python3.7/dist-packages/sklearn/linear_model/_logistic.py:1479: UserWarning: l1_ratio parameter is only used when penalty is 'elasticnet'. Got (penalty=l2)\n",
            "  \"(penalty={})\".format(self.penalty)\n",
            "/usr/local/lib/python3.7/dist-packages/sklearn/linear_model/_logistic.py:1479: UserWarning: l1_ratio parameter is only used when penalty is 'elasticnet'. Got (penalty=l2)\n",
            "  \"(penalty={})\".format(self.penalty)\n",
            "/usr/local/lib/python3.7/dist-packages/sklearn/linear_model/_logistic.py:1479: UserWarning: l1_ratio parameter is only used when penalty is 'elasticnet'. Got (penalty=l2)\n",
            "  \"(penalty={})\".format(self.penalty)\n",
            "/usr/local/lib/python3.7/dist-packages/sklearn/linear_model/_logistic.py:1479: UserWarning: l1_ratio parameter is only used when penalty is 'elasticnet'. Got (penalty=l2)\n",
            "  \"(penalty={})\".format(self.penalty)\n",
            "/usr/local/lib/python3.7/dist-packages/sklearn/linear_model/_logistic.py:1479: UserWarning: l1_ratio parameter is only used when penalty is 'elasticnet'. Got (penalty=l2)\n",
            "  \"(penalty={})\".format(self.penalty)\n",
            "/usr/local/lib/python3.7/dist-packages/sklearn/linear_model/_logistic.py:1479: UserWarning: l1_ratio parameter is only used when penalty is 'elasticnet'. Got (penalty=l2)\n",
            "  \"(penalty={})\".format(self.penalty)\n",
            "/usr/local/lib/python3.7/dist-packages/sklearn/linear_model/_logistic.py:1479: UserWarning: l1_ratio parameter is only used when penalty is 'elasticnet'. Got (penalty=l2)\n",
            "  \"(penalty={})\".format(self.penalty)\n",
            "/usr/local/lib/python3.7/dist-packages/sklearn/linear_model/_logistic.py:1479: UserWarning: l1_ratio parameter is only used when penalty is 'elasticnet'. Got (penalty=l2)\n",
            "  \"(penalty={})\".format(self.penalty)\n",
            "/usr/local/lib/python3.7/dist-packages/sklearn/linear_model/_logistic.py:1479: UserWarning: l1_ratio parameter is only used when penalty is 'elasticnet'. Got (penalty=l2)\n",
            "  \"(penalty={})\".format(self.penalty)\n",
            "/usr/local/lib/python3.7/dist-packages/sklearn/linear_model/_logistic.py:1479: UserWarning: l1_ratio parameter is only used when penalty is 'elasticnet'. Got (penalty=l2)\n",
            "  \"(penalty={})\".format(self.penalty)\n",
            "/usr/local/lib/python3.7/dist-packages/sklearn/linear_model/_logistic.py:1479: UserWarning: l1_ratio parameter is only used when penalty is 'elasticnet'. Got (penalty=l2)\n",
            "  \"(penalty={})\".format(self.penalty)\n",
            "/usr/local/lib/python3.7/dist-packages/sklearn/linear_model/_logistic.py:1479: UserWarning: l1_ratio parameter is only used when penalty is 'elasticnet'. Got (penalty=l2)\n",
            "  \"(penalty={})\".format(self.penalty)\n",
            "/usr/local/lib/python3.7/dist-packages/sklearn/linear_model/_logistic.py:1479: UserWarning: l1_ratio parameter is only used when penalty is 'elasticnet'. Got (penalty=l2)\n",
            "  \"(penalty={})\".format(self.penalty)\n",
            "/usr/local/lib/python3.7/dist-packages/sklearn/linear_model/_logistic.py:1479: UserWarning: l1_ratio parameter is only used when penalty is 'elasticnet'. Got (penalty=l2)\n",
            "  \"(penalty={})\".format(self.penalty)\n",
            "/usr/local/lib/python3.7/dist-packages/sklearn/linear_model/_logistic.py:1479: UserWarning: l1_ratio parameter is only used when penalty is 'elasticnet'. Got (penalty=l2)\n",
            "  \"(penalty={})\".format(self.penalty)\n",
            "/usr/local/lib/python3.7/dist-packages/sklearn/linear_model/_logistic.py:1479: UserWarning: l1_ratio parameter is only used when penalty is 'elasticnet'. Got (penalty=l2)\n",
            "  \"(penalty={})\".format(self.penalty)\n",
            "/usr/local/lib/python3.7/dist-packages/sklearn/linear_model/_logistic.py:1479: UserWarning: l1_ratio parameter is only used when penalty is 'elasticnet'. Got (penalty=l2)\n",
            "  \"(penalty={})\".format(self.penalty)\n",
            "/usr/local/lib/python3.7/dist-packages/sklearn/linear_model/_logistic.py:1479: UserWarning: l1_ratio parameter is only used when penalty is 'elasticnet'. Got (penalty=l2)\n",
            "  \"(penalty={})\".format(self.penalty)\n",
            "/usr/local/lib/python3.7/dist-packages/sklearn/linear_model/_logistic.py:1479: UserWarning: l1_ratio parameter is only used when penalty is 'elasticnet'. Got (penalty=l2)\n",
            "  \"(penalty={})\".format(self.penalty)\n",
            "/usr/local/lib/python3.7/dist-packages/sklearn/linear_model/_logistic.py:1479: UserWarning: l1_ratio parameter is only used when penalty is 'elasticnet'. Got (penalty=l2)\n",
            "  \"(penalty={})\".format(self.penalty)\n",
            "/usr/local/lib/python3.7/dist-packages/sklearn/linear_model/_logistic.py:1479: UserWarning: l1_ratio parameter is only used when penalty is 'elasticnet'. Got (penalty=l2)\n",
            "  \"(penalty={})\".format(self.penalty)\n",
            "/usr/local/lib/python3.7/dist-packages/sklearn/linear_model/_logistic.py:1479: UserWarning: l1_ratio parameter is only used when penalty is 'elasticnet'. Got (penalty=l2)\n",
            "  \"(penalty={})\".format(self.penalty)\n",
            "/usr/local/lib/python3.7/dist-packages/sklearn/linear_model/_logistic.py:1479: UserWarning: l1_ratio parameter is only used when penalty is 'elasticnet'. Got (penalty=l2)\n",
            "  \"(penalty={})\".format(self.penalty)\n",
            "/usr/local/lib/python3.7/dist-packages/sklearn/linear_model/_logistic.py:1479: UserWarning: l1_ratio parameter is only used when penalty is 'elasticnet'. Got (penalty=l2)\n",
            "  \"(penalty={})\".format(self.penalty)\n"
          ]
        },
        {
          "output_type": "error",
          "ename": "KeyboardInterrupt",
          "evalue": "ignored",
          "traceback": [
            "\u001b[0;31m---------------------------------------------------------------------------\u001b[0m",
            "\u001b[0;31mKeyboardInterrupt\u001b[0m                         Traceback (most recent call last)",
            "\u001b[0;32m<ipython-input-27-24ffe36573a4>\u001b[0m in \u001b[0;36m<module>\u001b[0;34m()\u001b[0m\n\u001b[1;32m      3\u001b[0m \u001b[0mclf_re\u001b[0m \u001b[0;34m=\u001b[0m \u001b[0mLogisticRegression\u001b[0m\u001b[0;34m(\u001b[0m\u001b[0;34m)\u001b[0m\u001b[0;34m\u001b[0m\u001b[0;34m\u001b[0m\u001b[0m\n\u001b[1;32m      4\u001b[0m \u001b[0mcv_re\u001b[0m \u001b[0;34m=\u001b[0m \u001b[0mGridSearchCV\u001b[0m\u001b[0;34m(\u001b[0m\u001b[0mclf_re\u001b[0m\u001b[0;34m,\u001b[0m \u001b[0mparam_grid_re\u001b[0m\u001b[0;34m,\u001b[0m \u001b[0mscoring\u001b[0m\u001b[0;34m=\u001b[0m\u001b[0;34m'accuracy'\u001b[0m\u001b[0;34m)\u001b[0m\u001b[0;34m\u001b[0m\u001b[0;34m\u001b[0m\u001b[0m\n\u001b[0;32m----> 5\u001b[0;31m \u001b[0mcv_re\u001b[0m\u001b[0;34m.\u001b[0m\u001b[0mfit\u001b[0m\u001b[0;34m(\u001b[0m\u001b[0mx_train\u001b[0m\u001b[0;34m,\u001b[0m \u001b[0my_train\u001b[0m\u001b[0;34m)\u001b[0m\u001b[0;34m;\u001b[0m\u001b[0;34m\u001b[0m\u001b[0;34m\u001b[0m\u001b[0m\n\u001b[0m",
            "\u001b[0;32m/usr/local/lib/python3.7/dist-packages/sklearn/model_selection/_search.py\u001b[0m in \u001b[0;36mfit\u001b[0;34m(self, X, y, groups, **fit_params)\u001b[0m\n\u001b[1;32m    889\u001b[0m                 \u001b[0;32mreturn\u001b[0m \u001b[0mresults\u001b[0m\u001b[0;34m\u001b[0m\u001b[0;34m\u001b[0m\u001b[0m\n\u001b[1;32m    890\u001b[0m \u001b[0;34m\u001b[0m\u001b[0m\n\u001b[0;32m--> 891\u001b[0;31m             \u001b[0mself\u001b[0m\u001b[0;34m.\u001b[0m\u001b[0m_run_search\u001b[0m\u001b[0;34m(\u001b[0m\u001b[0mevaluate_candidates\u001b[0m\u001b[0;34m)\u001b[0m\u001b[0;34m\u001b[0m\u001b[0;34m\u001b[0m\u001b[0m\n\u001b[0m\u001b[1;32m    892\u001b[0m \u001b[0;34m\u001b[0m\u001b[0m\n\u001b[1;32m    893\u001b[0m             \u001b[0;31m# multimetric is determined here because in the case of a callable\u001b[0m\u001b[0;34m\u001b[0m\u001b[0;34m\u001b[0m\u001b[0;34m\u001b[0m\u001b[0m\n",
            "\u001b[0;32m/usr/local/lib/python3.7/dist-packages/sklearn/model_selection/_search.py\u001b[0m in \u001b[0;36m_run_search\u001b[0;34m(self, evaluate_candidates)\u001b[0m\n\u001b[1;32m   1390\u001b[0m     \u001b[0;32mdef\u001b[0m \u001b[0m_run_search\u001b[0m\u001b[0;34m(\u001b[0m\u001b[0mself\u001b[0m\u001b[0;34m,\u001b[0m \u001b[0mevaluate_candidates\u001b[0m\u001b[0;34m)\u001b[0m\u001b[0;34m:\u001b[0m\u001b[0;34m\u001b[0m\u001b[0;34m\u001b[0m\u001b[0m\n\u001b[1;32m   1391\u001b[0m         \u001b[0;34m\"\"\"Search all candidates in param_grid\"\"\"\u001b[0m\u001b[0;34m\u001b[0m\u001b[0;34m\u001b[0m\u001b[0m\n\u001b[0;32m-> 1392\u001b[0;31m         \u001b[0mevaluate_candidates\u001b[0m\u001b[0;34m(\u001b[0m\u001b[0mParameterGrid\u001b[0m\u001b[0;34m(\u001b[0m\u001b[0mself\u001b[0m\u001b[0;34m.\u001b[0m\u001b[0mparam_grid\u001b[0m\u001b[0;34m)\u001b[0m\u001b[0;34m)\u001b[0m\u001b[0;34m\u001b[0m\u001b[0;34m\u001b[0m\u001b[0m\n\u001b[0m\u001b[1;32m   1393\u001b[0m \u001b[0;34m\u001b[0m\u001b[0m\n\u001b[1;32m   1394\u001b[0m \u001b[0;34m\u001b[0m\u001b[0m\n",
            "\u001b[0;32m/usr/local/lib/python3.7/dist-packages/sklearn/model_selection/_search.py\u001b[0m in \u001b[0;36mevaluate_candidates\u001b[0;34m(candidate_params, cv, more_results)\u001b[0m\n\u001b[1;32m    849\u001b[0m                     )\n\u001b[1;32m    850\u001b[0m                     for (cand_idx, parameters), (split_idx, (train, test)) in product(\n\u001b[0;32m--> 851\u001b[0;31m                         \u001b[0menumerate\u001b[0m\u001b[0;34m(\u001b[0m\u001b[0mcandidate_params\u001b[0m\u001b[0;34m)\u001b[0m\u001b[0;34m,\u001b[0m \u001b[0menumerate\u001b[0m\u001b[0;34m(\u001b[0m\u001b[0mcv\u001b[0m\u001b[0;34m.\u001b[0m\u001b[0msplit\u001b[0m\u001b[0;34m(\u001b[0m\u001b[0mX\u001b[0m\u001b[0;34m,\u001b[0m \u001b[0my\u001b[0m\u001b[0;34m,\u001b[0m \u001b[0mgroups\u001b[0m\u001b[0;34m)\u001b[0m\u001b[0;34m)\u001b[0m\u001b[0;34m\u001b[0m\u001b[0;34m\u001b[0m\u001b[0m\n\u001b[0m\u001b[1;32m    852\u001b[0m                     )\n\u001b[1;32m    853\u001b[0m                 )\n",
            "\u001b[0;32m/usr/local/lib/python3.7/dist-packages/joblib/parallel.py\u001b[0m in \u001b[0;36m__call__\u001b[0;34m(self, iterable)\u001b[0m\n\u001b[1;32m   1044\u001b[0m                 \u001b[0mself\u001b[0m\u001b[0;34m.\u001b[0m\u001b[0m_iterating\u001b[0m \u001b[0;34m=\u001b[0m \u001b[0mself\u001b[0m\u001b[0;34m.\u001b[0m\u001b[0m_original_iterator\u001b[0m \u001b[0;32mis\u001b[0m \u001b[0;32mnot\u001b[0m \u001b[0;32mNone\u001b[0m\u001b[0;34m\u001b[0m\u001b[0;34m\u001b[0m\u001b[0m\n\u001b[1;32m   1045\u001b[0m \u001b[0;34m\u001b[0m\u001b[0m\n\u001b[0;32m-> 1046\u001b[0;31m             \u001b[0;32mwhile\u001b[0m \u001b[0mself\u001b[0m\u001b[0;34m.\u001b[0m\u001b[0mdispatch_one_batch\u001b[0m\u001b[0;34m(\u001b[0m\u001b[0miterator\u001b[0m\u001b[0;34m)\u001b[0m\u001b[0;34m:\u001b[0m\u001b[0;34m\u001b[0m\u001b[0;34m\u001b[0m\u001b[0m\n\u001b[0m\u001b[1;32m   1047\u001b[0m                 \u001b[0;32mpass\u001b[0m\u001b[0;34m\u001b[0m\u001b[0;34m\u001b[0m\u001b[0m\n\u001b[1;32m   1048\u001b[0m \u001b[0;34m\u001b[0m\u001b[0m\n",
            "\u001b[0;32m/usr/local/lib/python3.7/dist-packages/joblib/parallel.py\u001b[0m in \u001b[0;36mdispatch_one_batch\u001b[0;34m(self, iterator)\u001b[0m\n\u001b[1;32m    859\u001b[0m                 \u001b[0;32mreturn\u001b[0m \u001b[0;32mFalse\u001b[0m\u001b[0;34m\u001b[0m\u001b[0;34m\u001b[0m\u001b[0m\n\u001b[1;32m    860\u001b[0m             \u001b[0;32melse\u001b[0m\u001b[0;34m:\u001b[0m\u001b[0;34m\u001b[0m\u001b[0;34m\u001b[0m\u001b[0m\n\u001b[0;32m--> 861\u001b[0;31m                 \u001b[0mself\u001b[0m\u001b[0;34m.\u001b[0m\u001b[0m_dispatch\u001b[0m\u001b[0;34m(\u001b[0m\u001b[0mtasks\u001b[0m\u001b[0;34m)\u001b[0m\u001b[0;34m\u001b[0m\u001b[0;34m\u001b[0m\u001b[0m\n\u001b[0m\u001b[1;32m    862\u001b[0m                 \u001b[0;32mreturn\u001b[0m \u001b[0;32mTrue\u001b[0m\u001b[0;34m\u001b[0m\u001b[0;34m\u001b[0m\u001b[0m\n\u001b[1;32m    863\u001b[0m \u001b[0;34m\u001b[0m\u001b[0m\n",
            "\u001b[0;32m/usr/local/lib/python3.7/dist-packages/joblib/parallel.py\u001b[0m in \u001b[0;36m_dispatch\u001b[0;34m(self, batch)\u001b[0m\n\u001b[1;32m    777\u001b[0m         \u001b[0;32mwith\u001b[0m \u001b[0mself\u001b[0m\u001b[0;34m.\u001b[0m\u001b[0m_lock\u001b[0m\u001b[0;34m:\u001b[0m\u001b[0;34m\u001b[0m\u001b[0;34m\u001b[0m\u001b[0m\n\u001b[1;32m    778\u001b[0m             \u001b[0mjob_idx\u001b[0m \u001b[0;34m=\u001b[0m \u001b[0mlen\u001b[0m\u001b[0;34m(\u001b[0m\u001b[0mself\u001b[0m\u001b[0;34m.\u001b[0m\u001b[0m_jobs\u001b[0m\u001b[0;34m)\u001b[0m\u001b[0;34m\u001b[0m\u001b[0;34m\u001b[0m\u001b[0m\n\u001b[0;32m--> 779\u001b[0;31m             \u001b[0mjob\u001b[0m \u001b[0;34m=\u001b[0m \u001b[0mself\u001b[0m\u001b[0;34m.\u001b[0m\u001b[0m_backend\u001b[0m\u001b[0;34m.\u001b[0m\u001b[0mapply_async\u001b[0m\u001b[0;34m(\u001b[0m\u001b[0mbatch\u001b[0m\u001b[0;34m,\u001b[0m \u001b[0mcallback\u001b[0m\u001b[0;34m=\u001b[0m\u001b[0mcb\u001b[0m\u001b[0;34m)\u001b[0m\u001b[0;34m\u001b[0m\u001b[0;34m\u001b[0m\u001b[0m\n\u001b[0m\u001b[1;32m    780\u001b[0m             \u001b[0;31m# A job can complete so quickly than its callback is\u001b[0m\u001b[0;34m\u001b[0m\u001b[0;34m\u001b[0m\u001b[0;34m\u001b[0m\u001b[0m\n\u001b[1;32m    781\u001b[0m             \u001b[0;31m# called before we get here, causing self._jobs to\u001b[0m\u001b[0;34m\u001b[0m\u001b[0;34m\u001b[0m\u001b[0;34m\u001b[0m\u001b[0m\n",
            "\u001b[0;32m/usr/local/lib/python3.7/dist-packages/joblib/_parallel_backends.py\u001b[0m in \u001b[0;36mapply_async\u001b[0;34m(self, func, callback)\u001b[0m\n\u001b[1;32m    206\u001b[0m     \u001b[0;32mdef\u001b[0m \u001b[0mapply_async\u001b[0m\u001b[0;34m(\u001b[0m\u001b[0mself\u001b[0m\u001b[0;34m,\u001b[0m \u001b[0mfunc\u001b[0m\u001b[0;34m,\u001b[0m \u001b[0mcallback\u001b[0m\u001b[0;34m=\u001b[0m\u001b[0;32mNone\u001b[0m\u001b[0;34m)\u001b[0m\u001b[0;34m:\u001b[0m\u001b[0;34m\u001b[0m\u001b[0;34m\u001b[0m\u001b[0m\n\u001b[1;32m    207\u001b[0m         \u001b[0;34m\"\"\"Schedule a func to be run\"\"\"\u001b[0m\u001b[0;34m\u001b[0m\u001b[0;34m\u001b[0m\u001b[0m\n\u001b[0;32m--> 208\u001b[0;31m         \u001b[0mresult\u001b[0m \u001b[0;34m=\u001b[0m \u001b[0mImmediateResult\u001b[0m\u001b[0;34m(\u001b[0m\u001b[0mfunc\u001b[0m\u001b[0;34m)\u001b[0m\u001b[0;34m\u001b[0m\u001b[0;34m\u001b[0m\u001b[0m\n\u001b[0m\u001b[1;32m    209\u001b[0m         \u001b[0;32mif\u001b[0m \u001b[0mcallback\u001b[0m\u001b[0;34m:\u001b[0m\u001b[0;34m\u001b[0m\u001b[0;34m\u001b[0m\u001b[0m\n\u001b[1;32m    210\u001b[0m             \u001b[0mcallback\u001b[0m\u001b[0;34m(\u001b[0m\u001b[0mresult\u001b[0m\u001b[0;34m)\u001b[0m\u001b[0;34m\u001b[0m\u001b[0;34m\u001b[0m\u001b[0m\n",
            "\u001b[0;32m/usr/local/lib/python3.7/dist-packages/joblib/_parallel_backends.py\u001b[0m in \u001b[0;36m__init__\u001b[0;34m(self, batch)\u001b[0m\n\u001b[1;32m    570\u001b[0m         \u001b[0;31m# Don't delay the application, to avoid keeping the input\u001b[0m\u001b[0;34m\u001b[0m\u001b[0;34m\u001b[0m\u001b[0;34m\u001b[0m\u001b[0m\n\u001b[1;32m    571\u001b[0m         \u001b[0;31m# arguments in memory\u001b[0m\u001b[0;34m\u001b[0m\u001b[0;34m\u001b[0m\u001b[0;34m\u001b[0m\u001b[0m\n\u001b[0;32m--> 572\u001b[0;31m         \u001b[0mself\u001b[0m\u001b[0;34m.\u001b[0m\u001b[0mresults\u001b[0m \u001b[0;34m=\u001b[0m \u001b[0mbatch\u001b[0m\u001b[0;34m(\u001b[0m\u001b[0;34m)\u001b[0m\u001b[0;34m\u001b[0m\u001b[0;34m\u001b[0m\u001b[0m\n\u001b[0m\u001b[1;32m    573\u001b[0m \u001b[0;34m\u001b[0m\u001b[0m\n\u001b[1;32m    574\u001b[0m     \u001b[0;32mdef\u001b[0m \u001b[0mget\u001b[0m\u001b[0;34m(\u001b[0m\u001b[0mself\u001b[0m\u001b[0;34m)\u001b[0m\u001b[0;34m:\u001b[0m\u001b[0;34m\u001b[0m\u001b[0;34m\u001b[0m\u001b[0m\n",
            "\u001b[0;32m/usr/local/lib/python3.7/dist-packages/joblib/parallel.py\u001b[0m in \u001b[0;36m__call__\u001b[0;34m(self)\u001b[0m\n\u001b[1;32m    261\u001b[0m         \u001b[0;32mwith\u001b[0m \u001b[0mparallel_backend\u001b[0m\u001b[0;34m(\u001b[0m\u001b[0mself\u001b[0m\u001b[0;34m.\u001b[0m\u001b[0m_backend\u001b[0m\u001b[0;34m,\u001b[0m \u001b[0mn_jobs\u001b[0m\u001b[0;34m=\u001b[0m\u001b[0mself\u001b[0m\u001b[0;34m.\u001b[0m\u001b[0m_n_jobs\u001b[0m\u001b[0;34m)\u001b[0m\u001b[0;34m:\u001b[0m\u001b[0;34m\u001b[0m\u001b[0;34m\u001b[0m\u001b[0m\n\u001b[1;32m    262\u001b[0m             return [func(*args, **kwargs)\n\u001b[0;32m--> 263\u001b[0;31m                     for func, args, kwargs in self.items]\n\u001b[0m\u001b[1;32m    264\u001b[0m \u001b[0;34m\u001b[0m\u001b[0m\n\u001b[1;32m    265\u001b[0m     \u001b[0;32mdef\u001b[0m \u001b[0m__reduce__\u001b[0m\u001b[0;34m(\u001b[0m\u001b[0mself\u001b[0m\u001b[0;34m)\u001b[0m\u001b[0;34m:\u001b[0m\u001b[0;34m\u001b[0m\u001b[0;34m\u001b[0m\u001b[0m\n",
            "\u001b[0;32m/usr/local/lib/python3.7/dist-packages/joblib/parallel.py\u001b[0m in \u001b[0;36m<listcomp>\u001b[0;34m(.0)\u001b[0m\n\u001b[1;32m    261\u001b[0m         \u001b[0;32mwith\u001b[0m \u001b[0mparallel_backend\u001b[0m\u001b[0;34m(\u001b[0m\u001b[0mself\u001b[0m\u001b[0;34m.\u001b[0m\u001b[0m_backend\u001b[0m\u001b[0;34m,\u001b[0m \u001b[0mn_jobs\u001b[0m\u001b[0;34m=\u001b[0m\u001b[0mself\u001b[0m\u001b[0;34m.\u001b[0m\u001b[0m_n_jobs\u001b[0m\u001b[0;34m)\u001b[0m\u001b[0;34m:\u001b[0m\u001b[0;34m\u001b[0m\u001b[0;34m\u001b[0m\u001b[0m\n\u001b[1;32m    262\u001b[0m             return [func(*args, **kwargs)\n\u001b[0;32m--> 263\u001b[0;31m                     for func, args, kwargs in self.items]\n\u001b[0m\u001b[1;32m    264\u001b[0m \u001b[0;34m\u001b[0m\u001b[0m\n\u001b[1;32m    265\u001b[0m     \u001b[0;32mdef\u001b[0m \u001b[0m__reduce__\u001b[0m\u001b[0;34m(\u001b[0m\u001b[0mself\u001b[0m\u001b[0;34m)\u001b[0m\u001b[0;34m:\u001b[0m\u001b[0;34m\u001b[0m\u001b[0;34m\u001b[0m\u001b[0m\n",
            "\u001b[0;32m/usr/local/lib/python3.7/dist-packages/sklearn/utils/fixes.py\u001b[0m in \u001b[0;36m__call__\u001b[0;34m(self, *args, **kwargs)\u001b[0m\n\u001b[1;32m    214\u001b[0m     \u001b[0;32mdef\u001b[0m \u001b[0m__call__\u001b[0m\u001b[0;34m(\u001b[0m\u001b[0mself\u001b[0m\u001b[0;34m,\u001b[0m \u001b[0;34m*\u001b[0m\u001b[0margs\u001b[0m\u001b[0;34m,\u001b[0m \u001b[0;34m**\u001b[0m\u001b[0mkwargs\u001b[0m\u001b[0;34m)\u001b[0m\u001b[0;34m:\u001b[0m\u001b[0;34m\u001b[0m\u001b[0;34m\u001b[0m\u001b[0m\n\u001b[1;32m    215\u001b[0m         \u001b[0;32mwith\u001b[0m \u001b[0mconfig_context\u001b[0m\u001b[0;34m(\u001b[0m\u001b[0;34m**\u001b[0m\u001b[0mself\u001b[0m\u001b[0;34m.\u001b[0m\u001b[0mconfig\u001b[0m\u001b[0;34m)\u001b[0m\u001b[0;34m:\u001b[0m\u001b[0;34m\u001b[0m\u001b[0;34m\u001b[0m\u001b[0m\n\u001b[0;32m--> 216\u001b[0;31m             \u001b[0;32mreturn\u001b[0m \u001b[0mself\u001b[0m\u001b[0;34m.\u001b[0m\u001b[0mfunction\u001b[0m\u001b[0;34m(\u001b[0m\u001b[0;34m*\u001b[0m\u001b[0margs\u001b[0m\u001b[0;34m,\u001b[0m \u001b[0;34m**\u001b[0m\u001b[0mkwargs\u001b[0m\u001b[0;34m)\u001b[0m\u001b[0;34m\u001b[0m\u001b[0;34m\u001b[0m\u001b[0m\n\u001b[0m\u001b[1;32m    217\u001b[0m \u001b[0;34m\u001b[0m\u001b[0m\n\u001b[1;32m    218\u001b[0m \u001b[0;34m\u001b[0m\u001b[0m\n",
            "\u001b[0;32m/usr/local/lib/python3.7/dist-packages/sklearn/model_selection/_validation.py\u001b[0m in \u001b[0;36m_fit_and_score\u001b[0;34m(estimator, X, y, scorer, train, test, verbose, parameters, fit_params, return_train_score, return_parameters, return_n_test_samples, return_times, return_estimator, split_progress, candidate_progress, error_score)\u001b[0m\n\u001b[1;32m    678\u001b[0m             \u001b[0mestimator\u001b[0m\u001b[0;34m.\u001b[0m\u001b[0mfit\u001b[0m\u001b[0;34m(\u001b[0m\u001b[0mX_train\u001b[0m\u001b[0;34m,\u001b[0m \u001b[0;34m**\u001b[0m\u001b[0mfit_params\u001b[0m\u001b[0;34m)\u001b[0m\u001b[0;34m\u001b[0m\u001b[0;34m\u001b[0m\u001b[0m\n\u001b[1;32m    679\u001b[0m         \u001b[0;32melse\u001b[0m\u001b[0;34m:\u001b[0m\u001b[0;34m\u001b[0m\u001b[0;34m\u001b[0m\u001b[0m\n\u001b[0;32m--> 680\u001b[0;31m             \u001b[0mestimator\u001b[0m\u001b[0;34m.\u001b[0m\u001b[0mfit\u001b[0m\u001b[0;34m(\u001b[0m\u001b[0mX_train\u001b[0m\u001b[0;34m,\u001b[0m \u001b[0my_train\u001b[0m\u001b[0;34m,\u001b[0m \u001b[0;34m**\u001b[0m\u001b[0mfit_params\u001b[0m\u001b[0;34m)\u001b[0m\u001b[0;34m\u001b[0m\u001b[0;34m\u001b[0m\u001b[0m\n\u001b[0m\u001b[1;32m    681\u001b[0m \u001b[0;34m\u001b[0m\u001b[0m\n\u001b[1;32m    682\u001b[0m     \u001b[0;32mexcept\u001b[0m \u001b[0mException\u001b[0m\u001b[0;34m:\u001b[0m\u001b[0;34m\u001b[0m\u001b[0;34m\u001b[0m\u001b[0m\n",
            "\u001b[0;32m/usr/local/lib/python3.7/dist-packages/sklearn/linear_model/_logistic.py\u001b[0m in \u001b[0;36mfit\u001b[0;34m(self, X, y, sample_weight)\u001b[0m\n\u001b[1;32m   1612\u001b[0m                 \u001b[0msample_weight\u001b[0m\u001b[0;34m=\u001b[0m\u001b[0msample_weight\u001b[0m\u001b[0;34m,\u001b[0m\u001b[0;34m\u001b[0m\u001b[0;34m\u001b[0m\u001b[0m\n\u001b[1;32m   1613\u001b[0m             )\n\u001b[0;32m-> 1614\u001b[0;31m             \u001b[0;32mfor\u001b[0m \u001b[0mclass_\u001b[0m\u001b[0;34m,\u001b[0m \u001b[0mwarm_start_coef_\u001b[0m \u001b[0;32min\u001b[0m \u001b[0mzip\u001b[0m\u001b[0;34m(\u001b[0m\u001b[0mclasses_\u001b[0m\u001b[0;34m,\u001b[0m \u001b[0mwarm_start_coef\u001b[0m\u001b[0;34m)\u001b[0m\u001b[0;34m\u001b[0m\u001b[0;34m\u001b[0m\u001b[0m\n\u001b[0m\u001b[1;32m   1615\u001b[0m         )\n\u001b[1;32m   1616\u001b[0m \u001b[0;34m\u001b[0m\u001b[0m\n",
            "\u001b[0;32m/usr/local/lib/python3.7/dist-packages/joblib/parallel.py\u001b[0m in \u001b[0;36m__call__\u001b[0;34m(self, iterable)\u001b[0m\n\u001b[1;32m   1041\u001b[0m             \u001b[0;31m# remaining jobs.\u001b[0m\u001b[0;34m\u001b[0m\u001b[0;34m\u001b[0m\u001b[0;34m\u001b[0m\u001b[0m\n\u001b[1;32m   1042\u001b[0m             \u001b[0mself\u001b[0m\u001b[0;34m.\u001b[0m\u001b[0m_iterating\u001b[0m \u001b[0;34m=\u001b[0m \u001b[0;32mFalse\u001b[0m\u001b[0;34m\u001b[0m\u001b[0;34m\u001b[0m\u001b[0m\n\u001b[0;32m-> 1043\u001b[0;31m             \u001b[0;32mif\u001b[0m \u001b[0mself\u001b[0m\u001b[0;34m.\u001b[0m\u001b[0mdispatch_one_batch\u001b[0m\u001b[0;34m(\u001b[0m\u001b[0miterator\u001b[0m\u001b[0;34m)\u001b[0m\u001b[0;34m:\u001b[0m\u001b[0;34m\u001b[0m\u001b[0;34m\u001b[0m\u001b[0m\n\u001b[0m\u001b[1;32m   1044\u001b[0m                 \u001b[0mself\u001b[0m\u001b[0;34m.\u001b[0m\u001b[0m_iterating\u001b[0m \u001b[0;34m=\u001b[0m \u001b[0mself\u001b[0m\u001b[0;34m.\u001b[0m\u001b[0m_original_iterator\u001b[0m \u001b[0;32mis\u001b[0m \u001b[0;32mnot\u001b[0m \u001b[0;32mNone\u001b[0m\u001b[0;34m\u001b[0m\u001b[0;34m\u001b[0m\u001b[0m\n\u001b[1;32m   1045\u001b[0m \u001b[0;34m\u001b[0m\u001b[0m\n",
            "\u001b[0;32m/usr/local/lib/python3.7/dist-packages/joblib/parallel.py\u001b[0m in \u001b[0;36mdispatch_one_batch\u001b[0;34m(self, iterator)\u001b[0m\n\u001b[1;32m    859\u001b[0m                 \u001b[0;32mreturn\u001b[0m \u001b[0;32mFalse\u001b[0m\u001b[0;34m\u001b[0m\u001b[0;34m\u001b[0m\u001b[0m\n\u001b[1;32m    860\u001b[0m             \u001b[0;32melse\u001b[0m\u001b[0;34m:\u001b[0m\u001b[0;34m\u001b[0m\u001b[0;34m\u001b[0m\u001b[0m\n\u001b[0;32m--> 861\u001b[0;31m                 \u001b[0mself\u001b[0m\u001b[0;34m.\u001b[0m\u001b[0m_dispatch\u001b[0m\u001b[0;34m(\u001b[0m\u001b[0mtasks\u001b[0m\u001b[0;34m)\u001b[0m\u001b[0;34m\u001b[0m\u001b[0;34m\u001b[0m\u001b[0m\n\u001b[0m\u001b[1;32m    862\u001b[0m                 \u001b[0;32mreturn\u001b[0m \u001b[0;32mTrue\u001b[0m\u001b[0;34m\u001b[0m\u001b[0;34m\u001b[0m\u001b[0m\n\u001b[1;32m    863\u001b[0m \u001b[0;34m\u001b[0m\u001b[0m\n",
            "\u001b[0;32m/usr/local/lib/python3.7/dist-packages/joblib/parallel.py\u001b[0m in \u001b[0;36m_dispatch\u001b[0;34m(self, batch)\u001b[0m\n\u001b[1;32m    777\u001b[0m         \u001b[0;32mwith\u001b[0m \u001b[0mself\u001b[0m\u001b[0;34m.\u001b[0m\u001b[0m_lock\u001b[0m\u001b[0;34m:\u001b[0m\u001b[0;34m\u001b[0m\u001b[0;34m\u001b[0m\u001b[0m\n\u001b[1;32m    778\u001b[0m             \u001b[0mjob_idx\u001b[0m \u001b[0;34m=\u001b[0m \u001b[0mlen\u001b[0m\u001b[0;34m(\u001b[0m\u001b[0mself\u001b[0m\u001b[0;34m.\u001b[0m\u001b[0m_jobs\u001b[0m\u001b[0;34m)\u001b[0m\u001b[0;34m\u001b[0m\u001b[0;34m\u001b[0m\u001b[0m\n\u001b[0;32m--> 779\u001b[0;31m             \u001b[0mjob\u001b[0m \u001b[0;34m=\u001b[0m \u001b[0mself\u001b[0m\u001b[0;34m.\u001b[0m\u001b[0m_backend\u001b[0m\u001b[0;34m.\u001b[0m\u001b[0mapply_async\u001b[0m\u001b[0;34m(\u001b[0m\u001b[0mbatch\u001b[0m\u001b[0;34m,\u001b[0m \u001b[0mcallback\u001b[0m\u001b[0;34m=\u001b[0m\u001b[0mcb\u001b[0m\u001b[0;34m)\u001b[0m\u001b[0;34m\u001b[0m\u001b[0;34m\u001b[0m\u001b[0m\n\u001b[0m\u001b[1;32m    780\u001b[0m             \u001b[0;31m# A job can complete so quickly than its callback is\u001b[0m\u001b[0;34m\u001b[0m\u001b[0;34m\u001b[0m\u001b[0;34m\u001b[0m\u001b[0m\n\u001b[1;32m    781\u001b[0m             \u001b[0;31m# called before we get here, causing self._jobs to\u001b[0m\u001b[0;34m\u001b[0m\u001b[0;34m\u001b[0m\u001b[0;34m\u001b[0m\u001b[0m\n",
            "\u001b[0;32m/usr/local/lib/python3.7/dist-packages/joblib/_parallel_backends.py\u001b[0m in \u001b[0;36mapply_async\u001b[0;34m(self, func, callback)\u001b[0m\n\u001b[1;32m    206\u001b[0m     \u001b[0;32mdef\u001b[0m \u001b[0mapply_async\u001b[0m\u001b[0;34m(\u001b[0m\u001b[0mself\u001b[0m\u001b[0;34m,\u001b[0m \u001b[0mfunc\u001b[0m\u001b[0;34m,\u001b[0m \u001b[0mcallback\u001b[0m\u001b[0;34m=\u001b[0m\u001b[0;32mNone\u001b[0m\u001b[0;34m)\u001b[0m\u001b[0;34m:\u001b[0m\u001b[0;34m\u001b[0m\u001b[0;34m\u001b[0m\u001b[0m\n\u001b[1;32m    207\u001b[0m         \u001b[0;34m\"\"\"Schedule a func to be run\"\"\"\u001b[0m\u001b[0;34m\u001b[0m\u001b[0;34m\u001b[0m\u001b[0m\n\u001b[0;32m--> 208\u001b[0;31m         \u001b[0mresult\u001b[0m \u001b[0;34m=\u001b[0m \u001b[0mImmediateResult\u001b[0m\u001b[0;34m(\u001b[0m\u001b[0mfunc\u001b[0m\u001b[0;34m)\u001b[0m\u001b[0;34m\u001b[0m\u001b[0;34m\u001b[0m\u001b[0m\n\u001b[0m\u001b[1;32m    209\u001b[0m         \u001b[0;32mif\u001b[0m \u001b[0mcallback\u001b[0m\u001b[0;34m:\u001b[0m\u001b[0;34m\u001b[0m\u001b[0;34m\u001b[0m\u001b[0m\n\u001b[1;32m    210\u001b[0m             \u001b[0mcallback\u001b[0m\u001b[0;34m(\u001b[0m\u001b[0mresult\u001b[0m\u001b[0;34m)\u001b[0m\u001b[0;34m\u001b[0m\u001b[0;34m\u001b[0m\u001b[0m\n",
            "\u001b[0;32m/usr/local/lib/python3.7/dist-packages/joblib/_parallel_backends.py\u001b[0m in \u001b[0;36m__init__\u001b[0;34m(self, batch)\u001b[0m\n\u001b[1;32m    570\u001b[0m         \u001b[0;31m# Don't delay the application, to avoid keeping the input\u001b[0m\u001b[0;34m\u001b[0m\u001b[0;34m\u001b[0m\u001b[0;34m\u001b[0m\u001b[0m\n\u001b[1;32m    571\u001b[0m         \u001b[0;31m# arguments in memory\u001b[0m\u001b[0;34m\u001b[0m\u001b[0;34m\u001b[0m\u001b[0;34m\u001b[0m\u001b[0m\n\u001b[0;32m--> 572\u001b[0;31m         \u001b[0mself\u001b[0m\u001b[0;34m.\u001b[0m\u001b[0mresults\u001b[0m \u001b[0;34m=\u001b[0m \u001b[0mbatch\u001b[0m\u001b[0;34m(\u001b[0m\u001b[0;34m)\u001b[0m\u001b[0;34m\u001b[0m\u001b[0;34m\u001b[0m\u001b[0m\n\u001b[0m\u001b[1;32m    573\u001b[0m \u001b[0;34m\u001b[0m\u001b[0m\n\u001b[1;32m    574\u001b[0m     \u001b[0;32mdef\u001b[0m \u001b[0mget\u001b[0m\u001b[0;34m(\u001b[0m\u001b[0mself\u001b[0m\u001b[0;34m)\u001b[0m\u001b[0;34m:\u001b[0m\u001b[0;34m\u001b[0m\u001b[0;34m\u001b[0m\u001b[0m\n",
            "\u001b[0;32m/usr/local/lib/python3.7/dist-packages/joblib/parallel.py\u001b[0m in \u001b[0;36m__call__\u001b[0;34m(self)\u001b[0m\n\u001b[1;32m    261\u001b[0m         \u001b[0;32mwith\u001b[0m \u001b[0mparallel_backend\u001b[0m\u001b[0;34m(\u001b[0m\u001b[0mself\u001b[0m\u001b[0;34m.\u001b[0m\u001b[0m_backend\u001b[0m\u001b[0;34m,\u001b[0m \u001b[0mn_jobs\u001b[0m\u001b[0;34m=\u001b[0m\u001b[0mself\u001b[0m\u001b[0;34m.\u001b[0m\u001b[0m_n_jobs\u001b[0m\u001b[0;34m)\u001b[0m\u001b[0;34m:\u001b[0m\u001b[0;34m\u001b[0m\u001b[0;34m\u001b[0m\u001b[0m\n\u001b[1;32m    262\u001b[0m             return [func(*args, **kwargs)\n\u001b[0;32m--> 263\u001b[0;31m                     for func, args, kwargs in self.items]\n\u001b[0m\u001b[1;32m    264\u001b[0m \u001b[0;34m\u001b[0m\u001b[0m\n\u001b[1;32m    265\u001b[0m     \u001b[0;32mdef\u001b[0m \u001b[0m__reduce__\u001b[0m\u001b[0;34m(\u001b[0m\u001b[0mself\u001b[0m\u001b[0;34m)\u001b[0m\u001b[0;34m:\u001b[0m\u001b[0;34m\u001b[0m\u001b[0;34m\u001b[0m\u001b[0m\n",
            "\u001b[0;32m/usr/local/lib/python3.7/dist-packages/joblib/parallel.py\u001b[0m in \u001b[0;36m<listcomp>\u001b[0;34m(.0)\u001b[0m\n\u001b[1;32m    261\u001b[0m         \u001b[0;32mwith\u001b[0m \u001b[0mparallel_backend\u001b[0m\u001b[0;34m(\u001b[0m\u001b[0mself\u001b[0m\u001b[0;34m.\u001b[0m\u001b[0m_backend\u001b[0m\u001b[0;34m,\u001b[0m \u001b[0mn_jobs\u001b[0m\u001b[0;34m=\u001b[0m\u001b[0mself\u001b[0m\u001b[0;34m.\u001b[0m\u001b[0m_n_jobs\u001b[0m\u001b[0;34m)\u001b[0m\u001b[0;34m:\u001b[0m\u001b[0;34m\u001b[0m\u001b[0;34m\u001b[0m\u001b[0m\n\u001b[1;32m    262\u001b[0m             return [func(*args, **kwargs)\n\u001b[0;32m--> 263\u001b[0;31m                     for func, args, kwargs in self.items]\n\u001b[0m\u001b[1;32m    264\u001b[0m \u001b[0;34m\u001b[0m\u001b[0m\n\u001b[1;32m    265\u001b[0m     \u001b[0;32mdef\u001b[0m \u001b[0m__reduce__\u001b[0m\u001b[0;34m(\u001b[0m\u001b[0mself\u001b[0m\u001b[0;34m)\u001b[0m\u001b[0;34m:\u001b[0m\u001b[0;34m\u001b[0m\u001b[0;34m\u001b[0m\u001b[0m\n",
            "\u001b[0;32m/usr/local/lib/python3.7/dist-packages/sklearn/utils/fixes.py\u001b[0m in \u001b[0;36m__call__\u001b[0;34m(self, *args, **kwargs)\u001b[0m\n\u001b[1;32m    214\u001b[0m     \u001b[0;32mdef\u001b[0m \u001b[0m__call__\u001b[0m\u001b[0;34m(\u001b[0m\u001b[0mself\u001b[0m\u001b[0;34m,\u001b[0m \u001b[0;34m*\u001b[0m\u001b[0margs\u001b[0m\u001b[0;34m,\u001b[0m \u001b[0;34m**\u001b[0m\u001b[0mkwargs\u001b[0m\u001b[0;34m)\u001b[0m\u001b[0;34m:\u001b[0m\u001b[0;34m\u001b[0m\u001b[0;34m\u001b[0m\u001b[0m\n\u001b[1;32m    215\u001b[0m         \u001b[0;32mwith\u001b[0m \u001b[0mconfig_context\u001b[0m\u001b[0;34m(\u001b[0m\u001b[0;34m**\u001b[0m\u001b[0mself\u001b[0m\u001b[0;34m.\u001b[0m\u001b[0mconfig\u001b[0m\u001b[0;34m)\u001b[0m\u001b[0;34m:\u001b[0m\u001b[0;34m\u001b[0m\u001b[0;34m\u001b[0m\u001b[0m\n\u001b[0;32m--> 216\u001b[0;31m             \u001b[0;32mreturn\u001b[0m \u001b[0mself\u001b[0m\u001b[0;34m.\u001b[0m\u001b[0mfunction\u001b[0m\u001b[0;34m(\u001b[0m\u001b[0;34m*\u001b[0m\u001b[0margs\u001b[0m\u001b[0;34m,\u001b[0m \u001b[0;34m**\u001b[0m\u001b[0mkwargs\u001b[0m\u001b[0;34m)\u001b[0m\u001b[0;34m\u001b[0m\u001b[0;34m\u001b[0m\u001b[0m\n\u001b[0m\u001b[1;32m    217\u001b[0m \u001b[0;34m\u001b[0m\u001b[0m\n\u001b[1;32m    218\u001b[0m \u001b[0;34m\u001b[0m\u001b[0m\n",
            "\u001b[0;32m/usr/local/lib/python3.7/dist-packages/sklearn/linear_model/_logistic.py\u001b[0m in \u001b[0;36m_logistic_regression_path\u001b[0;34m(X, y, pos_class, Cs, fit_intercept, max_iter, tol, verbose, solver, coef, class_weight, dual, penalty, intercept_scaling, multi_class, random_state, check_input, max_squared_sum, sample_weight, l1_ratio)\u001b[0m\n\u001b[1;32m    876\u001b[0m                 \u001b[0mmax_squared_sum\u001b[0m\u001b[0;34m,\u001b[0m\u001b[0;34m\u001b[0m\u001b[0;34m\u001b[0m\u001b[0m\n\u001b[1;32m    877\u001b[0m                 \u001b[0mwarm_start_sag\u001b[0m\u001b[0;34m,\u001b[0m\u001b[0;34m\u001b[0m\u001b[0;34m\u001b[0m\u001b[0m\n\u001b[0;32m--> 878\u001b[0;31m                 \u001b[0mis_saga\u001b[0m\u001b[0;34m=\u001b[0m\u001b[0;34m(\u001b[0m\u001b[0msolver\u001b[0m \u001b[0;34m==\u001b[0m \u001b[0;34m\"saga\"\u001b[0m\u001b[0;34m)\u001b[0m\u001b[0;34m,\u001b[0m\u001b[0;34m\u001b[0m\u001b[0;34m\u001b[0m\u001b[0m\n\u001b[0m\u001b[1;32m    879\u001b[0m             )\n\u001b[1;32m    880\u001b[0m \u001b[0;34m\u001b[0m\u001b[0m\n",
            "\u001b[0;32m/usr/local/lib/python3.7/dist-packages/sklearn/linear_model/_sag.py\u001b[0m in \u001b[0;36msag_solver\u001b[0;34m(X, y, sample_weight, loss, alpha, beta, max_iter, tol, verbose, random_state, check_input, max_squared_sum, warm_start_mem, is_saga)\u001b[0m\n\u001b[1;32m    346\u001b[0m         \u001b[0mintercept_decay\u001b[0m\u001b[0;34m,\u001b[0m\u001b[0;34m\u001b[0m\u001b[0;34m\u001b[0m\u001b[0m\n\u001b[1;32m    347\u001b[0m         \u001b[0mis_saga\u001b[0m\u001b[0;34m,\u001b[0m\u001b[0;34m\u001b[0m\u001b[0;34m\u001b[0m\u001b[0m\n\u001b[0;32m--> 348\u001b[0;31m         \u001b[0mverbose\u001b[0m\u001b[0;34m,\u001b[0m\u001b[0;34m\u001b[0m\u001b[0;34m\u001b[0m\u001b[0m\n\u001b[0m\u001b[1;32m    349\u001b[0m     )\n\u001b[1;32m    350\u001b[0m \u001b[0;34m\u001b[0m\u001b[0m\n",
            "\u001b[0;31mKeyboardInterrupt\u001b[0m: "
          ]
        }
      ]
    },
    {
      "cell_type": "code",
      "source": [
        "cv_re.best_params_"
      ],
      "metadata": {
        "id": "rREtjK8X0016"
      },
      "execution_count": null,
      "outputs": []
    },
    {
      "cell_type": "code",
      "source": [
        "# Reportamos accuracy promedio y varianza para todas las configuraciones\n",
        "results = cv_re.cv_results_\n",
        "#mean = results['mean_test_score'] # accuracy promedio\n",
        "#std = results['std_test_score'] # varianza\n",
        "df = pd.DataFrame(results)\n",
        "df[['param_penalty', 'param_solver', 'param_C','param_l1_ratio', 'param_random_state', 'param_max_iter', 'mean_test_score', 'std_test_score']]\\\n",
        "  .sort_values(by=['mean_test_score'], ascending=False)"
      ],
      "metadata": {
        "id": "hd7mfqzP00r0"
      },
      "execution_count": null,
      "outputs": []
    },
    {
      "cell_type": "markdown",
      "source": [
        "#### Perceptrón multicapa "
      ],
      "metadata": {
        "id": "oyjh6F_V7LwJ"
      }
    },
    {
      "cell_type": "code",
      "source": [
        "# Perceptrón multicapa "
      ],
      "metadata": {
        "id": "2_W-XuazlPta"
      },
      "execution_count": null,
      "outputs": []
    },
    {
      "cell_type": "code",
      "source": [
        "from sklearn import neural_network\n",
        "from sklearn.metrics import accuracy_score, classification_report, ConfusionMatrixDisplay\n",
        "\n",
        "param_grid = [{\n",
        "    'hidden_layer_sizes' : [10, 15],\n",
        "    'activation' : ['logistic', 'tanh', 'relu'],\n",
        "    'solver' : ['sgd'], \n",
        "    'alpha': [0.0001, 0.001, 0.01], \n",
        "    'batch_size' : [50, 20],\n",
        "    'random_state' : [43],\n",
        "    'learning_rate' : ['constant', 'adaptive'],\n",
        "    'learning_rate_init' : [0.001, 0.01, 0.1],\n",
        "    'shuffle' : [True],\n",
        "    'verbose' : [True],\n",
        "    'tol' : [0.0022, 0.01, 0.0001, 0.0008],\n",
        "    'max_iter' : [1000]\n",
        "}]"
      ],
      "metadata": {
        "id": "0gOvRRt0V3rs"
      },
      "execution_count": null,
      "outputs": []
    },
    {
      "cell_type": "code",
      "source": [
        "#Perceptron multiclase\n",
        "model = neural_network.MLPClassifier()\n",
        "cv = GridSearchCV(model, param_grid, scoring='accuracy') # cv None (default) to use the default 5-fold cross validation\n",
        "cv.fit(x_train, y_train);"
      ],
      "metadata": {
        "id": "GsiO3lPzt15H"
      },
      "execution_count": null,
      "outputs": []
    },
    {
      "cell_type": "code",
      "source": [
        "cv.cv_results_.keys()"
      ],
      "metadata": {
        "id": "ZjlDVneAzVtH"
      },
      "execution_count": null,
      "outputs": []
    },
    {
      "cell_type": "code",
      "source": [
        "cv.best_params_"
      ],
      "metadata": {
        "id": "6YlxbsW6zkXl"
      },
      "execution_count": null,
      "outputs": []
    },
    {
      "cell_type": "code",
      "source": [
        "# Reportamos accuracy promedio y varianza para todas las configuraciones\n",
        "results_neu = cv.cv_results_\n",
        "#mean = results['mean_test_score'] # accuracy promedio\n",
        "#std = results['std_test_score'] # varianza\n",
        "df_neu = pd.DataFrame(results_neu)\n",
        "df_neu = df_neu.sort_values(by=['mean_test_score'], ascending=False)\n",
        "df_neu"
      ],
      "metadata": {
        "id": "6xN55ztizWzk"
      },
      "execution_count": null,
      "outputs": []
    },
    {
      "cell_type": "code",
      "source": [
        "#Usamos neural_network\n",
        "\n",
        "from sklearn import neural_network\n",
        "from sklearn.metrics import accuracy_score, classification_report, ConfusionMatrixDisplay\n",
        "\n",
        "import matplotlib.pyplot as plt\n",
        "\n",
        "clf = neural_network.MLPClassifier(\n",
        "    activation='tanh',\n",
        "    solver='sgd',\n",
        "    alpha=0.01, \n",
        "    hidden_layer_sizes=(10),\n",
        "    learning_rate='adaptive',\n",
        "    learning_rate_init=0.1,\n",
        "    batch_size=20,\n",
        "    random_state=43,\n",
        "    max_iter=1000,\n",
        "    verbose=True,\n",
        "    shuffle=True,\n",
        "    tol=0.0001,\n",
        "    )"
      ],
      "metadata": {
        "id": "ACe5peQZS8DQ"
      },
      "execution_count": null,
      "outputs": []
    },
    {
      "cell_type": "code",
      "source": [
        "clf.fit(x_train, y_train.ravel())"
      ],
      "metadata": {
        "id": "v3FJYfnKTNAC"
      },
      "execution_count": null,
      "outputs": []
    },
    {
      "cell_type": "code",
      "source": [
        "clf.score(x_test, y_test)"
      ],
      "metadata": {
        "id": "qCEwDfesUaZ8"
      },
      "execution_count": null,
      "outputs": []
    },
    {
      "cell_type": "code",
      "source": [
        "total_params = 0\n",
        "for case, name in zip(clf.coefs_, ('wi','bias')):\n",
        "    print(name, '=', np.size(case))\n",
        "    total_params += np.size(case)\n",
        "\n",
        "for case, name in zip(clf.intercepts_, ('wi','bias')):\n",
        "    print(name, '=', np.size(case))\n",
        "    total_params += np.size(case)\n",
        "\n",
        "print('total params = ', total_params)"
      ],
      "metadata": {
        "id": "iu6tTU7JTr5p"
      },
      "execution_count": null,
      "outputs": []
    },
    {
      "cell_type": "code",
      "source": [
        "np.round(np.exp(clf.predict_log_proba(x_train)),1)"
      ],
      "metadata": {
        "id": "xzW7VLYXUBC5"
      },
      "execution_count": null,
      "outputs": []
    },
    {
      "cell_type": "code",
      "source": [
        "predictions = clf.predict(x_train)\n",
        "print (f'Accuracy: {accuracy_score(y_train, predictions)*100:.2f}')"
      ],
      "metadata": {
        "id": "DP8fyPqSTdWL"
      },
      "execution_count": null,
      "outputs": []
    },
    {
      "cell_type": "markdown",
      "metadata": {
        "id": "n1S7I3Bzn993"
      },
      "source": [
        "#### Random Forest"
      ]
    },
    {
      "cell_type": "code",
      "execution_count": null,
      "metadata": {
        "id": "lZ4fskKZmRJu"
      },
      "outputs": [],
      "source": [
        "#from sklearn.ensemble import RandomForestRegressor\n",
        "#from sklearn.metrics import accuracy_score, classification_report, ConfusionMatrixDisplay\n",
        "\n"
      ]
    },
    {
      "cell_type": "code",
      "execution_count": null,
      "metadata": {
        "id": "8j1zwDzyOFUs"
      },
      "outputs": [],
      "source": [
        "param_grid_rf = [{\n",
        "       'n_estimators': [ 180, 200,250],\n",
        "        'criterion'    : ['gini'],\n",
        "        'max_depth'    : [ 10, 20],\n",
        "        'max_features' : [3, 4, 5],\n",
        "        'n_jobs'       : [-1],#means using all processors\n",
        "        'random_state' : [0]\n",
        "}]"
      ]
    },
    {
      "cell_type": "code",
      "execution_count": null,
      "metadata": {
        "id": "prk3OJrHd_0Z"
      },
      "outputs": [],
      "source": [
        "clf_rf = RandomForestClassifier()\n",
        "cv = GridSearchCV(clf_rf, param_grid_rf, scoring='accuracy') \n",
        "cv.fit(x_train, y_train);"
      ]
    },
    {
      "cell_type": "code",
      "execution_count": null,
      "metadata": {
        "id": "pNaVA8oc-DS8"
      },
      "outputs": [],
      "source": [
        "cv.cv_results_.keys()"
      ]
    },
    {
      "cell_type": "code",
      "execution_count": null,
      "metadata": {
        "id": "ny_QvyJK1iHb"
      },
      "outputs": [],
      "source": [
        "cv.best_params_"
      ]
    },
    {
      "cell_type": "code",
      "execution_count": null,
      "metadata": {
        "id": "bCC0OtrFiEmb"
      },
      "outputs": [],
      "source": [
        "# Reportamos accuracy promedio y varianza para todas las configuraciones\n",
        "results_rf = cv.cv_results_\n",
        "#mean = results['mean_test_score'] # accuracy promedio\n",
        "#std = results['std_test_score'] # varianza\n",
        "df_rf = pd.DataFrame(results_rf)\n",
        "df_rf = pd.DataFrame(results_rf).sort_values(by=['mean_test_score'], ascending=False)\n",
        "#df[['param_penalty', 'param_loss', 'param_alpha', 'param_learning_rate', 'mean_test_score', 'std_test_score']]\\\n",
        "  #.sort_values(by=['mean_test_score'], ascending=False)\n",
        "df_rf"
      ]
    },
    {
      "cell_type": "code",
      "execution_count": null,
      "metadata": {
        "id": "EgM_uvMRmciq"
      },
      "outputs": [],
      "source": [
        "clf_rf.score(x_train, y_train)"
      ]
    },
    {
      "cell_type": "code",
      "execution_count": null,
      "metadata": {
        "id": "hGYxvNQqk4ze"
      },
      "outputs": [],
      "source": [
        "predictions = clf_rf.predict(x_train)\n",
        "print (f'Accuracy: {accuracy_score(y_train, predictions)*100:.2f}')\n"
      ]
    },
    {
      "cell_type": "markdown",
      "metadata": {
        "id": "E3BTAXeZK56f"
      },
      "source": [
        "#### DecisionTreeClassifier\n"
      ]
    },
    {
      "cell_type": "code",
      "execution_count": null,
      "metadata": {
        "id": "tbpgunGGK56g"
      },
      "outputs": [],
      "source": [
        "param_grid_dt = {\n",
        "    'criterion' : ['gini', 'entropía', 'log_loss'],\n",
        "    'max_depth': [3, 4, 5, 6, 7, 8, 9, 10, 11, 12, 13, 14, 15], \n",
        "    'min_samples_leaf': [1, 5, 10, 15, 20],\n",
        "    'random_state' : [0],\n",
        "    'ccp_alpha' : [0, 0.2, 0.6, 0.9, 1, 1.3, 2, 5]\n",
        "}"
      ]
    },
    {
      "cell_type": "code",
      "execution_count": null,
      "metadata": {
        "id": "nnJfF_EuK56h"
      },
      "outputs": [],
      "source": [
        "clf_dt = DecisionTreeClassifier()\n",
        "cv_dt = GridSearchCV(clf_dt, param_grid_dt, scoring='accuracy') # cv None (default) to use the default 5-fold cross validation\n",
        "cv_dt.fit(x_train, y_train)"
      ]
    },
    {
      "cell_type": "code",
      "execution_count": null,
      "metadata": {
        "id": "jOnLMgQvK56h"
      },
      "outputs": [],
      "source": [
        "cv_dt.best_params_"
      ]
    },
    {
      "cell_type": "code",
      "execution_count": null,
      "metadata": {
        "id": "zTuyMzalK56h"
      },
      "outputs": [],
      "source": [
        "# Reportamos accuracy promedio y varianza para todas las configuraciones\n",
        "results_dt = cv_dt.cv_results_\n",
        "#mean = results['mean_test_score'] # accuracy promedio\n",
        "#std = results['std_test_score'] # varianza\n",
        "df_dt = pd.DataFrame(results_dt).sort_values(by=['mean_test_score'], ascending=False)\n",
        "df_dt"
      ]
    },
    {
      "cell_type": "code",
      "source": [
        "clf_dt.score(x_train, y_train)"
      ],
      "metadata": {
        "id": "8x98B8IqLPmf"
      },
      "execution_count": null,
      "outputs": []
    },
    {
      "cell_type": "code",
      "source": [
        "predictions = clf_dt.predict(x_train)\n",
        "print (f'Accuracy: {accuracy_score(y_train, predictions)*100:.2f}')"
      ],
      "metadata": {
        "id": "Uaj28z8kLWaR"
      },
      "execution_count": null,
      "outputs": []
    },
    {
      "cell_type": "markdown",
      "source": [
        "#### Naive Bayes"
      ],
      "metadata": {
        "id": "kftLSaQBJcc6"
      }
    },
    {
      "cell_type": "code",
      "source": [
        "gnb = GaussianNB()\n",
        "gnb.fit(x_train, y_train)\n",
        "gnb.score(x_test, y_test)"
      ],
      "metadata": {
        "id": "Gdzajl0hLlTm"
      },
      "execution_count": null,
      "outputs": []
    },
    {
      "cell_type": "code",
      "source": [
        "y_pred = gnb.predict(x_test)\n",
        "print(\"Métricas de validación para el mejor ajuste\")\n",
        "print(\"Accuracy = %s\" % accuracy_score(y_test, y_pred))\n",
        "print(\"Precision = %s\" % precision_score(y_test, y_pred))\n",
        "print(\"Recall = %s\" % recall_score(y_test, y_pred))\n",
        "print(\"F1 = %s\" % f1_score(y_test, y_pred))\n",
        "\n",
        "cm = confusion_matrix(y_test, y_pred)\n",
        "plot_confusion_matrix(cm, ['Cumplió_0', 'Incumplió_1'])"
      ],
      "metadata": {
        "id": "4QpmegBpPKs5"
      },
      "execution_count": null,
      "outputs": []
    },
    {
      "cell_type": "markdown",
      "source": [
        "#### XGBoost"
      ],
      "metadata": {
        "id": "f5Fp7qudChEi"
      }
    },
    {
      "cell_type": "code",
      "source": [
        "from xgboost import XGBClassifier\n",
        "xgb = XGBClassifier()\n",
        "xgb.fit(x_train, y_train)"
      ],
      "metadata": {
        "id": "kpJO-PLkRF3E"
      },
      "execution_count": null,
      "outputs": []
    },
    {
      "cell_type": "code",
      "source": [
        "xgb.score(x_test, y_test)"
      ],
      "metadata": {
        "id": "CBALZpAbRVzu"
      },
      "execution_count": null,
      "outputs": []
    },
    {
      "cell_type": "code",
      "source": [
        "model = XGBClassifier(random_state=0)\n",
        "from scipy.stats import uniform, randint\n",
        "\n",
        "params = {\n",
        "    \"max_depth\": range(1, 11, 2), # default 3\n",
        "    \"n_estimators\": range(50, 400, 50), # default 100   \n",
        "}\n",
        "\n",
        "cv = GridSearchCV(model, params, scoring='accuracy') # cv None (default) to use the default 5-fold cross validation\n",
        "cv.fit(x_train, y_train)"
      ],
      "metadata": {
        "id": "qwp28xPHHyFN"
      },
      "execution_count": null,
      "outputs": []
    },
    {
      "cell_type": "code",
      "source": [
        "cv.best_params_"
      ],
      "metadata": {
        "id": "3jWtZxxK_0dX"
      },
      "execution_count": null,
      "outputs": []
    },
    {
      "cell_type": "code",
      "source": [
        "# summarize results\n",
        "results = cv.cv_results_\n",
        "print(\"Best: %f using %s\" % (cv.best_score_, cv.best_params_))\n",
        "means = results['mean_test_score']\n",
        "stds = results['std_test_score']\n",
        "parameters = results['params']\n",
        "for mean, stdev, param in zip(means, stds, parameters):\n",
        "\tprint(\"%f (%f) with: %r\" % (mean, stdev, param))\n"
      ],
      "metadata": {
        "id": "Ug2gOxDqZRVY"
      },
      "execution_count": null,
      "outputs": []
    },
    {
      "cell_type": "code",
      "source": [
        "# plot results\n",
        "max_depth = range(1, 11, 2)\n",
        "n_estimators = range(50, 400, 50)\n",
        "scores = np.array(means).reshape(len(max_depth), len(n_estimators))\n",
        "for i, value in enumerate(max_depth):\n",
        "    plt.plot(n_estimators, scores[i], label='depth: ' + str(value))\n",
        "plt.legend()\n",
        "plt.xlabel('n_estimators')\n",
        "plt.ylabel('accuracy')\n",
        "plt.savefig('n_estimators_vs_max_depth.png')"
      ],
      "metadata": {
        "id": "kGz9qyOtTiVC"
      },
      "execution_count": null,
      "outputs": []
    },
    {
      "cell_type": "code",
      "source": [
        "best_model = cv.best_estimator_\n",
        "# métricas de validación\n",
        "y_pred = best_model.predict(X_test)\n",
        "print(\"Métricas de validación para el mejor ajuste\")\n",
        "print(\"Accuracy = %s\" % accuracy_score(y_test, y_pred))\n",
        "print(\"Precision = %s\" % precision_score(y_test, y_pred))\n",
        "print(\"Recall = %s\" % recall_score(y_test, y_pred))\n",
        "print(\"F1 = %s\" % f1_score(y_test, y_pred))\n",
        "\n",
        "cm = confusion_matrix(y_test, y_pred)\n",
        "plot_confusion_matrix(cm, ['Cumplió_0', 'Incumplió_1'])"
      ],
      "metadata": {
        "id": "fhRPeXM6NP4H"
      },
      "execution_count": null,
      "outputs": []
    },
    {
      "cell_type": "markdown",
      "source": [
        "#### SVM"
      ],
      "metadata": {
        "id": "hDGsuT6JBbxI"
      }
    },
    {
      "cell_type": "code",
      "source": [
        "# Usamos SVM, clasificador lineal basado en una máquina de soporte compacto\n",
        "from sklearn.svm import LinearSVC\n",
        "from sklearn.metrics import accuracy_score, classification_report, ConfusionMatrixDisplay"
      ],
      "metadata": {
        "id": "u3deLjYPg9zu"
      },
      "execution_count": null,
      "outputs": []
    },
    {
      "cell_type": "markdown",
      "source": [
        "Grandes valores de C resultan en márgenes menores y pequeños valores de C resultan en márgenes más amplios"
      ],
      "metadata": {
        "id": "fnHIbIYkCt7s"
      }
    },
    {
      "cell_type": "code",
      "source": [
        "metrics = {}\n",
        "for C in np.linspace(0.1, 100, 10):\n",
        "    # \"hinge\" is the standard SVM loss\n",
        "    clf = LinearSVC(C=C, loss=\"hinge\", random_state=26)\n",
        "    # entrenamos\n",
        "    clf.fit(x_train, y_train.ravel())\n",
        "    # predecimos\n",
        "    predictions = clf.predict(x_train)\n",
        "    # calculamos el Accuracy\n",
        "    metrics.update({ 'C = '+str(round(C, 3)): (accuracy_score(y_train, predictions)*100) })\n",
        "\n",
        "print('\\n=== Accuracys ===\\n')\n",
        "metrics"
      ],
      "metadata": {
        "id": "4WawjqO46HOo",
        "colab": {
          "base_uri": "https://localhost:8080/"
        },
        "outputId": "798406f8-7a97-4234-c69e-897933b6062d"
      },
      "execution_count": null,
      "outputs": [
        {
          "output_type": "stream",
          "name": "stderr",
          "text": [
            "/usr/local/lib/python3.7/dist-packages/sklearn/svm/_base.py:1208: ConvergenceWarning: Liblinear failed to converge, increase the number of iterations.\n",
            "  ConvergenceWarning,\n",
            "/usr/local/lib/python3.7/dist-packages/sklearn/svm/_base.py:1208: ConvergenceWarning: Liblinear failed to converge, increase the number of iterations.\n",
            "  ConvergenceWarning,\n",
            "/usr/local/lib/python3.7/dist-packages/sklearn/svm/_base.py:1208: ConvergenceWarning: Liblinear failed to converge, increase the number of iterations.\n",
            "  ConvergenceWarning,\n",
            "/usr/local/lib/python3.7/dist-packages/sklearn/svm/_base.py:1208: ConvergenceWarning: Liblinear failed to converge, increase the number of iterations.\n",
            "  ConvergenceWarning,\n",
            "/usr/local/lib/python3.7/dist-packages/sklearn/svm/_base.py:1208: ConvergenceWarning: Liblinear failed to converge, increase the number of iterations.\n",
            "  ConvergenceWarning,\n",
            "/usr/local/lib/python3.7/dist-packages/sklearn/svm/_base.py:1208: ConvergenceWarning: Liblinear failed to converge, increase the number of iterations.\n",
            "  ConvergenceWarning,\n",
            "/usr/local/lib/python3.7/dist-packages/sklearn/svm/_base.py:1208: ConvergenceWarning: Liblinear failed to converge, increase the number of iterations.\n",
            "  ConvergenceWarning,\n",
            "/usr/local/lib/python3.7/dist-packages/sklearn/svm/_base.py:1208: ConvergenceWarning: Liblinear failed to converge, increase the number of iterations.\n",
            "  ConvergenceWarning,\n",
            "/usr/local/lib/python3.7/dist-packages/sklearn/svm/_base.py:1208: ConvergenceWarning: Liblinear failed to converge, increase the number of iterations.\n",
            "  ConvergenceWarning,\n"
          ]
        },
        {
          "output_type": "stream",
          "name": "stdout",
          "text": [
            "\n",
            "=== Accuracys ===\n",
            "\n"
          ]
        },
        {
          "output_type": "stream",
          "name": "stderr",
          "text": [
            "/usr/local/lib/python3.7/dist-packages/sklearn/svm/_base.py:1208: ConvergenceWarning: Liblinear failed to converge, increase the number of iterations.\n",
            "  ConvergenceWarning,\n"
          ]
        },
        {
          "output_type": "execute_result",
          "data": {
            "text/plain": [
              "{'C = 0.1': 78.69926494087568,\n",
              " 'C = 100.0': 76.70182166826463,\n",
              " 'C = 11.2': 79.86577181208054,\n",
              " 'C = 22.3': 78.92297858740812,\n",
              " 'C = 33.4': 78.8111217641419,\n",
              " 'C = 44.5': 78.45957174816235,\n",
              " 'C = 55.6': 78.50751038670502,\n",
              " 'C = 66.7': 76.35027165228507,\n",
              " 'C = 77.8': 77.75647171620325,\n",
              " 'C = 88.9': 77.78843080856504}"
            ]
          },
          "metadata": {},
          "execution_count": 82
        }
      ]
    },
    {
      "cell_type": "code",
      "source": [
        "print('=== Best Model ===\\n {}, Accuracy: {}'.format(\n",
        "        max(metrics, key=metrics.get), \n",
        "        max(metrics.values())\n",
        "    )\n",
        ")"
      ],
      "metadata": {
        "colab": {
          "base_uri": "https://localhost:8080/"
        },
        "id": "rLuSLsGMHXqb",
        "outputId": "6d5685a9-55eb-4f79-e82b-2c5f8f0342b5"
      },
      "execution_count": null,
      "outputs": [
        {
          "output_type": "stream",
          "name": "stdout",
          "text": [
            "=== Best Model ===\n",
            " C = 11.2, Accuracy: 79.86577181208054\n"
          ]
        }
      ]
    },
    {
      "cell_type": "markdown",
      "source": [
        "### Usamos VotingClassifier para los mejores modelos"
      ],
      "metadata": {
        "id": "63uKAjUWlxwS"
      }
    },
    {
      "cell_type": "markdown",
      "source": [
        "Dentro de los modelos entrenados que mayor accuracy nos dieron, instanciamos los mismos con los mejores hiperparámetros, encontrados durante el entrenamiento,  para dar una predicción mejor con el Voting. El cual es un clasificador compuesto de varios clasificadores, en este caso usamos Random Forest (Bagging), perceptron multicapas con redes neuronales y xgboost (Boosting). El \"Voting\" simplemente elige la clase que tuvo \"más votos\" de los modelos que lo componen. El método de votacion elegido es \"soft\" que considera la probabilidad de los votos."
      ],
      "metadata": {
        "id": "F3NApgnNEZ9t"
      }
    },
    {
      "cell_type": "code",
      "source": [
        "from sklearn.ensemble import VotingClassifier\n",
        "clf1 = RandomForestClassifier(\n",
        "    criterion = 'entropy',\n",
        "    n_jobs = -1,\n",
        "    max_depth = 20,\n",
        "    max_features = 5,\n",
        "    n_estimators = 200,\n",
        "    random_state = 0,\n",
        "    )\n",
        "\n",
        "clf2 = neural_network.MLPClassifier(\n",
        "    activation='tanh',\n",
        "    solver='sgd',\n",
        "    alpha=0.01, \n",
        "    hidden_layer_sizes=(10),\n",
        "    learning_rate='adaptive',\n",
        "    learning_rate_init=0.1,\n",
        "    batch_size=20,\n",
        "    random_state=43,\n",
        "    max_iter=1000,\n",
        "    verbose=True,\n",
        "    shuffle=True,\n",
        "    tol=0.0001,\n",
        "    )\n",
        "clf3 = XGBClassifier(\n",
        "        max_depth= 7,\n",
        "        n_estimators = 150\n",
        "        )\n",
        "\n",
        "eclf1 = VotingClassifier(estimators=[('RF', clf1), ('PM', clf2), ('NE', clf3)], voting='soft')\n",
        "eclf1.fit(x_train, y_train)\n",
        "predictions = eclf1.predict(x_test)\n",
        "print(classification_report(y_test, test_predictions))\n"
      ],
      "metadata": {
        "id": "XW8roi6Yhr1z"
      },
      "execution_count": null,
      "outputs": []
    },
    {
      "cell_type": "markdown",
      "metadata": {
        "id": "QxVQc26fcPxo"
      },
      "source": [
        "## Generar la salida para entregar"
      ]
    },
    {
      "cell_type": "markdown",
      "source": [
        "#### Imputacion y curacion"
      ],
      "metadata": {
        "id": "uJoKXLS2JkxX"
      }
    },
    {
      "cell_type": "code",
      "execution_count": null,
      "metadata": {
        "id": "JSLHN_HycPxo"
      },
      "outputs": [],
      "source": [
        "test_df"
      ]
    },
    {
      "cell_type": "code",
      "source": [
        "test_df.info()"
      ],
      "metadata": {
        "id": "-j0lIePoCn0d"
      },
      "execution_count": null,
      "outputs": []
    },
    {
      "cell_type": "code",
      "execution_count": null,
      "metadata": {
        "id": "zJVg3ZfHDA-s"
      },
      "outputs": [],
      "source": [
        "X_t = test_df.copy()"
      ]
    },
    {
      "cell_type": "code",
      "source": [
        "# Para la Columna Destino cambiamops los nan por la moda \n",
        "dic_dest_t = {'TRAPPIST-1e' : 'Destination_TRAPPIST-1e',\n",
        "        '55 Cancri e' : 'Destination_55 Cancri e',\n",
        "        'PSO J318.5-22' : 'Destination_PSO J318.5-22',\n",
        "        np.nan : np.nan}\n",
        "X_t['Destination'] = X_t['Destination'].map(dic_dest_t)"
      ],
      "metadata": {
        "id": "lK9rL1H7DA-s"
      },
      "execution_count": null,
      "outputs": []
    },
    {
      "cell_type": "code",
      "source": [
        "# Hacemos un one hot dividiendo las categorias de destino\n",
        "x_dest_t = pd.get_dummies(X_t['Destination'])\n",
        "for i in range(len(x_dest_t)):\n",
        "    if (x_dest_t.iloc[i,0]+x_dest_t.iloc[i,1]+x_dest_t.iloc[i,2]) == 0:\n",
        "        x_dest_t.iloc[i,:] = x_dest_t.iloc[i,:].replace(0, np.nan)\n",
        "a = x_dest_t.columns\n",
        "X_t[a] = x_dest_t"
      ],
      "metadata": {
        "id": "Uh5xBYMQDA-t"
      },
      "execution_count": null,
      "outputs": []
    },
    {
      "cell_type": "code",
      "source": [
        "# Para la Columna HomePlanet cambiamos los nan por la moda \n",
        "dic_planet_t = {'Earth' : 'HomePlanet_Earth',\n",
        "              'Europa' : 'HomePlanet_Europa',\n",
        "              'Mars' : 'HomePlanet_Mars',\n",
        "              np.nan : np.nan}\n",
        "X_t['HomePlanet'] = X_t['HomePlanet'].map(dic_planet_t)"
      ],
      "metadata": {
        "id": "gx0iq6FQDA-t"
      },
      "execution_count": null,
      "outputs": []
    },
    {
      "cell_type": "code",
      "source": [
        "# Hacemos un one hot dividiendo las categorias de destino\n",
        "x_home_t = pd.get_dummies(X_t['HomePlanet'])\n",
        "for i in range(len(x_home_t)):\n",
        "    if (x_home_t.iloc[i,0]+x_home_t.iloc[i,1]+x_home_t.iloc[i,2]) == 0:\n",
        "        x_home_t.iloc[i,:] = x_home_t.iloc[i,:].replace(0, np.nan)\n",
        "a = x_home_t.columns\n",
        "X_t[a] = x_home_t"
      ],
      "metadata": {
        "id": "-H2lLXMMDA-t"
      },
      "execution_count": null,
      "outputs": []
    },
    {
      "cell_type": "code",
      "source": [
        "#Separamos en tres columnas \"Cabin\"\n",
        "X_t[['Cabin_Deck','Cabin_Num','Cabin_Side']] = X_t['Cabin'].str.split('/',expand=True)"
      ],
      "metadata": {
        "id": "23AfGnQCDA-t"
      },
      "execution_count": null,
      "outputs": []
    },
    {
      "cell_type": "code",
      "source": [
        "# hacemos encodig de variables categoricas que tienen un cierto orden\n",
        "Label_cols = ['VIP', 'CryoSleep', 'Cabin_Deck', 'Cabin_Side' ]\n",
        "for col in Label_cols:\n",
        "    X_t[col] = LabelEncoder().fit_transform(X_t[col])"
      ],
      "metadata": {
        "id": "zKpmgRRqDA-t"
      },
      "execution_count": null,
      "outputs": []
    },
    {
      "cell_type": "code",
      "source": [
        "# Volvemos a  definir las variables nan para luego ser imputadas\n",
        "Label_col = ['VIP', 'CryoSleep', 'Cabin_Side' ]\n",
        "X_t[Label_col] = X_t[Label_col].replace(2, np.nan)\n",
        "X_t['Cabin_Deck'] = X_t['Cabin_Deck'].replace(8, np.nan)"
      ],
      "metadata": {
        "id": "NbVKC-y-DA-u"
      },
      "execution_count": null,
      "outputs": []
    },
    {
      "cell_type": "code",
      "source": [
        "id_t = X_t['PassengerId']"
      ],
      "metadata": {
        "id": "jIXeILOhIFe3"
      },
      "execution_count": null,
      "outputs": []
    },
    {
      "cell_type": "code",
      "source": [
        "#limpiamos el dataset antes de imputar los valores faltantes\n",
        "X_t = X_t.drop(['Cabin', 'Destination', 'HomePlanet', 'Name', 'PassengerId'],axis=1)"
      ],
      "metadata": {
        "id": "CPd913XlDA-u"
      },
      "execution_count": null,
      "outputs": []
    },
    {
      "cell_type": "code",
      "source": [
        "X_t['Cabin_Num'] = X_t['Cabin_Num'].astype(float)\n",
        "X_t.info()"
      ],
      "metadata": {
        "id": "oXZo-O_jHc74"
      },
      "execution_count": null,
      "outputs": []
    },
    {
      "cell_type": "code",
      "source": [
        "# Standarizamos y escalamos los valores antes de imputar\n",
        "x_names = X_t.columns\n",
        "scaler = StandardScaler()\n",
        "X_t = scaler.fit_transform(X_t)"
      ],
      "metadata": {
        "id": "zrLmdJ11Hc75"
      },
      "execution_count": null,
      "outputs": []
    },
    {
      "cell_type": "code",
      "source": [
        "# Imputamos todos los valores con knnimputer\n",
        "from sklearn.impute import KNNImputer\n",
        "\n",
        "X_knn_t = X_t.copy()\n",
        "knn_imputer = KNNImputer(n_neighbors=9, weights=\"uniform\")\n",
        "X_knn_t = knn_imputer.fit_transform(X_knn_t)\n",
        "\n",
        "# Volvemos a combertirlo en DF\n",
        "X_knn_t = pd.DataFrame(X_knn_t, columns=x_names)\n",
        "X_knn_t"
      ],
      "metadata": {
        "id": "p34B3rx3Hc75"
      },
      "execution_count": null,
      "outputs": []
    },
    {
      "cell_type": "markdown",
      "metadata": {
        "id": "DdLGruXgcPxp"
      },
      "source": [
        "### Generamos la salida"
      ]
    },
    {
      "cell_type": "code",
      "execution_count": null,
      "metadata": {
        "id": "qmye69-vcPxp"
      },
      "outputs": [],
      "source": [
        "# Realizamos la predicción con el conjunto de test\n",
        "test_pred = eclf1.predict(X_knn_t)"
      ]
    },
    {
      "cell_type": "code",
      "execution_count": null,
      "metadata": {
        "id": "wgOi256LcPxq"
      },
      "outputs": [],
      "source": [
        "submission = pd.DataFrame(list(zip(id_t, test_pred)), columns=[\"PassengerId\", \"Transported\"])\n",
        "submission.to_csv(\"sample_submission.csv\", header=True, index=False)"
      ]
    },
    {
      "cell_type": "code",
      "source": [
        "submission"
      ],
      "metadata": {
        "id": "_k6BtP0licXX"
      },
      "execution_count": null,
      "outputs": []
    },
    {
      "cell_type": "code",
      "source": [
        "from google.colab import files\n",
        "files.download('sample_submission.csv')"
      ],
      "metadata": {
        "id": "-GKYVMsnq2pq"
      },
      "execution_count": null,
      "outputs": []
    }
  ],
  "metadata": {
    "kernelspec": {
      "display_name": "Python 3.9.13 ('diplodatos')",
      "language": "python",
      "name": "python3"
    },
    "language_info": {
      "codemirror_mode": {
        "name": "ipython",
        "version": 3
      },
      "file_extension": ".py",
      "mimetype": "text/x-python",
      "name": "python",
      "nbconvert_exporter": "python",
      "pygments_lexer": "ipython3",
      "version": "3.9.13"
    },
    "orig_nbformat": 4,
    "vscode": {
      "interpreter": {
        "hash": "e6b65fc4380ac725e50a330b268a227bbdbe91bddfffbf68e5f7ce9848a2b8d5"
      }
    },
    "colab": {
      "name": "AS_Entregable.ipynb",
      "provenance": [],
      "collapsed_sections": [
        "yCCpYHKXd4jj",
        "ZFPLrj9-fJ_r",
        "Np0q1ukU7Du1",
        "oyjh6F_V7LwJ",
        "n1S7I3Bzn993",
        "E3BTAXeZK56f",
        "kftLSaQBJcc6",
        "63uKAjUWlxwS",
        "QxVQc26fcPxo",
        "uJoKXLS2JkxX",
        "DdLGruXgcPxp"
      ]
    },
    "gpuClass": "standard"
  },
  "nbformat": 4,
  "nbformat_minor": 0
}